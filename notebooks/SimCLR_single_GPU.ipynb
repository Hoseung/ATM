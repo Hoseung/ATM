{
 "cells": [
  {
   "cell_type": "markdown",
   "id": "d23f8ef2-8286-45c3-a7f1-53372b6cd65c",
   "metadata": {},
   "source": [
    "SimCLR Implementation for single GPU setup\n",
    "\n",
    "https://medium.com/the-owl/simclr-in-pytorch-5f290cb11dd7"
   ]
  },
  {
   "cell_type": "code",
   "execution_count": 1,
   "id": "22cd75fe-fbc3-4c6f-9b38-814dd7529f4b",
   "metadata": {},
   "outputs": [],
   "source": [
    "import numpy as np\n",
    "import pandas as pd\n",
    "import shutil, time, os, requests, random, copy\n",
    "\n",
    "import torch\n",
    "import torch.nn as nn \n",
    "import torch.optim as optim\n",
    "from torch.utils.data import Dataset, DataLoader\n",
    "from torchvision import datasets, transforms, models\n",
    "\n",
    "import matplotlib.pyplot as plt \n",
    "\n",
    "from sklearn.manifold import TSNE"
   ]
  },
  {
   "cell_type": "code",
   "execution_count": 2,
   "id": "5e2e8a8a-fff0-4139-8239-e63ae8d18f2e",
   "metadata": {},
   "outputs": [],
   "source": [
    "def set_seed(seed=16):\n",
    "    np.random.seed(seed)\n",
    "    torch.manual_seed(seed)"
   ]
  },
  {
   "cell_type": "code",
   "execution_count": 9,
   "id": "a6106537-445d-42bc-97f7-4135ed837782",
   "metadata": {},
   "outputs": [],
   "source": [
    "dir_CIFAR = \"/home/hoseung/Work/datasets/cifar-10-batches-py/\""
   ]
  },
  {
   "cell_type": "markdown",
   "id": "4a02c634-769c-44b8-bcac-7c5d9009f212",
   "metadata": {},
   "source": [
    "## Data Loader"
   ]
  },
  {
   "cell_type": "code",
   "execution_count": 7,
   "id": "887f0945-58fd-4ffa-89c4-3202eb5ba4b0",
   "metadata": {},
   "outputs": [],
   "source": [
    "import pickle\n",
    "\n",
    "def unpickle(file):\n",
    "    with open(file, 'rb') as fo:\n",
    "        dict = pickle.load(fo, encoding='bytes')\n",
    "    return dict"
   ]
  },
  {
   "cell_type": "code",
   "execution_count": 15,
   "id": "0a2fc473-9027-46ba-8366-5f698e23d811",
   "metadata": {},
   "outputs": [],
   "source": [
    "train_files = ['data_batch_1','data_batch_2','data_batch_3','data_batch_4','data_batch_5']\n",
    "images = np.array([], dtype=np.uint8).reshape((0,3072))\n",
    "labels = np.array([])\n",
    "for tf in train_files:\n",
    "    data_dict = unpickle(dir_CIFAR+tf)\n",
    "    data = data_dict[b'data']\n",
    "    images = np.append(images, data, axis=0)\n",
    "    labels = np.append(labels, data_dict[b'labels'])\n",
    "\n",
    "\n",
    "testimages = np.array([],dtype=np.uint8).reshape((0,3072))\n",
    "testlabels = np.array([])\n",
    "\n",
    "data_dict = unpickle(dir_CIFAR+'/test_batch')\n",
    "data = data_dict[b'data']\n",
    "testimages = np.append(testimages,data,axis=0)\n",
    "testlabels = np.append(testlabels,data_dict[b'labels'])\n",
    "\n",
    "\n",
    "images = images.reshape((-1,3,32,32)).astype(float)\n",
    "testimages = testimages.reshape((-1,3,32,32)).astype(float)\n",
    "\n",
    "lab_dict = {0:'airplane',1:'automobile',2:'bird',3:'cat',4:'deer',5:'dog',6:'frog',7:'horse',8:'ship',9:'truck'}"
   ]
  },
  {
   "cell_type": "code",
   "execution_count": 25,
   "id": "650f1cb6-38d7-45fd-90fe-dda811f6a0fb",
   "metadata": {},
   "outputs": [],
   "source": [
    "# split 50K images 80:20.\n",
    "trimages = images[:40000]\n",
    "valimages = images[40000:]\n",
    "trlabels = labels[:40000]\n",
    "vallabels = labels[40000:]\n",
    "MEAN = np.mean(trimages/255.0,axis=(0,2,3),keepdims=True) # will be used in normalization\n",
    "STD = np.std(trimages/255.0,axis=(0,2,3),keepdims=True)"
   ]
  },
  {
   "cell_type": "markdown",
   "id": "f4f3526d-8aa6-4f65-9ef3-6f1b46f7c54d",
   "metadata": {},
   "source": [
    "## Data Generator"
   ]
  },
  {
   "cell_type": "code",
   "execution_count": 17,
   "id": "d1d03df9-4e30-4078-a6de-842a63655704",
   "metadata": {},
   "outputs": [
    {
     "data": {
      "text/plain": [
       "\u001b[0;31mSignature:\u001b[0m \u001b[0mrandom\u001b[0m\u001b[0;34m.\u001b[0m\u001b[0msample\u001b[0m\u001b[0;34m(\u001b[0m\u001b[0mpopulation\u001b[0m\u001b[0;34m,\u001b[0m \u001b[0mk\u001b[0m\u001b[0;34m,\u001b[0m \u001b[0;34m*\u001b[0m\u001b[0;34m,\u001b[0m \u001b[0mcounts\u001b[0m\u001b[0;34m=\u001b[0m\u001b[0;32mNone\u001b[0m\u001b[0;34m)\u001b[0m\u001b[0;34m\u001b[0m\u001b[0;34m\u001b[0m\u001b[0m\n",
       "\u001b[0;31mDocstring:\u001b[0m\n",
       "Chooses k unique random elements from a population sequence or set.\n",
       "\n",
       "Returns a new list containing elements from the population while\n",
       "leaving the original population unchanged.  The resulting list is\n",
       "in selection order so that all sub-slices will also be valid random\n",
       "samples.  This allows raffle winners (the sample) to be partitioned\n",
       "into grand prize and second place winners (the subslices).\n",
       "\n",
       "Members of the population need not be hashable or unique.  If the\n",
       "population contains repeats, then each occurrence is a possible\n",
       "selection in the sample.\n",
       "\n",
       "Repeated elements can be specified one at a time or with the optional\n",
       "counts parameter.  For example:\n",
       "\n",
       "    sample(['red', 'blue'], counts=[4, 2], k=5)\n",
       "\n",
       "is equivalent to:\n",
       "\n",
       "    sample(['red', 'red', 'red', 'red', 'blue', 'blue'], k=5)\n",
       "\n",
       "To choose a sample from a range of integers, use range() for the\n",
       "population argument.  This is especially fast and space efficient\n",
       "for sampling from a large population:\n",
       "\n",
       "    sample(range(10000000), 60)\n",
       "\u001b[0;31mFile:\u001b[0m      ~/anaconda3/envs/tm39/lib/python3.9/random.py\n",
       "\u001b[0;31mType:\u001b[0m      method\n"
      ]
     },
     "metadata": {},
     "output_type": "display_data"
    }
   ],
   "source": [
    "random.sample?"
   ]
  },
  {
   "cell_type": "code",
   "execution_count": 37,
   "id": "a211a1a3-c3f4-4044-ab16-b9b3b8ae3962",
   "metadata": {},
   "outputs": [],
   "source": [
    "class C10DataGen(Dataset):\n",
    "    \"\"\"   \n",
    "    What is **frame**?\n",
    "    \"\"\"\n",
    "    def __init__(self,phase,imgarr,s = 0.5):\n",
    "        self.phase = phase\n",
    "        self.imgarr = imgarr\n",
    "        self.s = s\n",
    "        self.transforms = transforms.Compose([transforms.RandomHorizontalFlip(0.5),\n",
    "                                              transforms.RandomResizedCrop(32,(0.8,1.0)),\n",
    "                                              transforms.Compose([transforms.RandomApply([transforms.ColorJitter(0.8*self.s, \n",
    "                                                                                                                 0.8*self.s, \n",
    "                                                                                                                 0.8*self.s, \n",
    "                                                                                                                 0.2*self.s)], p = 0.8),\n",
    "                                                                  transforms.RandomGrayscale(p=0.2)\n",
    "                                                                 ])])\n",
    "        \n",
    "    def __len__(self):\n",
    "        return self.imgarr.shape[0]\n",
    "    \n",
    "    def __getitem__(self, idx):\n",
    "        x = self.imgarr[idx]\n",
    "        x = x.astype(np.float32)/255.0\n",
    "        \n",
    "        x1 = self.augment(torch.from_numpy(x))\n",
    "        x2 = self.augment(torch.from_numpy(x))\n",
    "        \n",
    "        x1 = self.preprocess(x1)\n",
    "        x2 = self.preprocess(x2)\n",
    "        \n",
    "        return x1, x2\n",
    "    \n",
    "    def on_epoch_end(self):\n",
    "        # shuffle the dataset\n",
    "        #self.imgarr = self.imgarr[random.sample(list(range(self.__len__())),\n",
    "        #                                        k = self.__len__())] # choose k sample from population.\n",
    "        np.random.shuffle(self.imgarr) # shuffle images. -- np.random.shuffle only shuffles along the first axis.\n",
    "        \n",
    "    def preprocess(self, frame):\n",
    "        frame = (frame-MEAN)/STD\n",
    "        return frame\n",
    "    \n",
    "    def augment(self, frame, transformations = None):\n",
    "        if self.phase == 'train':\n",
    "            frame = self.transforms(frame)\n",
    "        else:\n",
    "            return frame\n",
    "        \n",
    "        return frame"
   ]
  },
  {
   "cell_type": "markdown",
   "id": "ab5a6ea9-f27b-46f3-8f24-66e778cdfc3f",
   "metadata": {},
   "source": [
    "Pytorch DataLoader expects a dataset (or data generator), each item of which is retrieved by `__get_item__()` or `__iter__()` depending on the type of dataset. \n"
   ]
  },
  {
   "cell_type": "code",
   "execution_count": 36,
   "id": "dbbce865-c469-4686-aa81-a1ad3e063cff",
   "metadata": {},
   "outputs": [],
   "source": [
    "dg = C10DataGen('train', trimages)\n",
    "dl = DataLoader(dg, batch_size=128, drop_last=True)\n",
    "\n",
    "vdg = C10DataGen('valid', valimages)\n",
    "vdl = DataLoader(vdg, batch_size=128, drop_last=True)"
   ]
  },
  {
   "cell_type": "code",
   "execution_count": null,
   "id": "02b5ba3c-575f-4fc1-9ce1-2c39aeaeb995",
   "metadata": {},
   "outputs": [],
   "source": [
    "dl"
   ]
  }
 ],
 "metadata": {
  "kernelspec": {
   "display_name": "Python 3",
   "language": "python",
   "name": "python3"
  },
  "language_info": {
   "codemirror_mode": {
    "name": "ipython",
    "version": 3
   },
   "file_extension": ".py",
   "mimetype": "text/x-python",
   "name": "python",
   "nbconvert_exporter": "python",
   "pygments_lexer": "ipython3",
   "version": "3.9.5"
  }
 },
 "nbformat": 4,
 "nbformat_minor": 5
}
