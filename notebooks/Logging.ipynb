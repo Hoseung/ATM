{
 "cells": [
  {
   "cell_type": "code",
   "execution_count": 1,
   "id": "b4051287-3c38-4c67-a600-a0e7112e8b71",
   "metadata": {},
   "outputs": [],
   "source": [
    "import logging"
   ]
  },
  {
   "cell_type": "code",
   "execution_count": 2,
   "id": "829e75e1-2e56-4238-8662-80072a6e1db5",
   "metadata": {},
   "outputs": [],
   "source": [
    "logger = logging.getLogger(__name__)\n",
    "logger.setLevel(logging.INFO)\n",
    "\n",
    "formatter=logging.Formatter('%(asctime)s - %(levelname)s - %(name)s - %(message)s')\n",
    "file_handler = logging.FileHandler('module1.log')\n",
    "file_handler.setFormatter(formatter)\n",
    "logger.addHandler(file_handler)"
   ]
  },
  {
   "cell_type": "code",
   "execution_count": 3,
   "id": "4f80a293-9f5a-43d3-a8d2-1a641e61ea4a",
   "metadata": {},
   "outputs": [],
   "source": [
    "logger.info(\"test1\")\n",
    "logger.info(\"test23\")"
   ]
  },
  {
   "cell_type": "code",
   "execution_count": 3,
   "id": "e58b32ff-6085-4e5a-a259-4151710a5bbf",
   "metadata": {},
   "outputs": [],
   "source": [
    "logging.basicConfig(filename='test.log', \n",
    "                    format='%(asctime)s - %(levelname)s - %(message)s')\n",
    "\n",
    "logging.warning(\"Warning!\")\n",
    "logging.error(\"EEEEE\")"
   ]
  },
  {
   "cell_type": "markdown",
   "id": "1bcbdb6f-ac5b-44fb-826e-afdc123b4fb6",
   "metadata": {},
   "source": [
    "A good convention to use when naming loggers is to use a module-level logger, in each module which uses logging, named as follows:"
   ]
  },
  {
   "cell_type": "code",
   "execution_count": 4,
   "id": "767ef553-6744-4433-a88a-7f82527a60ac",
   "metadata": {},
   "outputs": [],
   "source": [
    "logger = logging.getLogger(__name__)"
   ]
  },
  {
   "cell_type": "code",
   "execution_count": null,
   "id": "151a2003-bc6b-4cf5-bc20-655ce79ee2cc",
   "metadata": {},
   "outputs": [],
   "source": []
  }
 ],
 "metadata": {
  "kernelspec": {
   "display_name": "Python 3",
   "language": "python",
   "name": "python3"
  },
  "language_info": {
   "codemirror_mode": {
    "name": "ipython",
    "version": 3
   },
   "file_extension": ".py",
   "mimetype": "text/x-python",
   "name": "python",
   "nbconvert_exporter": "python",
   "pygments_lexer": "ipython3",
   "version": "3.8.10"
  }
 },
 "nbformat": 4,
 "nbformat_minor": 5
}
