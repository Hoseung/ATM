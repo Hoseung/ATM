{
  "nbformat": 4,
  "nbformat_minor": 0,
  "metadata": {
    "kernelspec": {
      "display_name": "pytorch",
      "language": "python",
      "name": "pytorch"
    },
    "language_info": {
      "codemirror_mode": {
        "name": "ipython",
        "version": 3
      },
      "file_extension": ".py",
      "mimetype": "text/x-python",
      "name": "python",
      "nbconvert_exporter": "python",
      "pygments_lexer": "ipython3",
      "version": "3.6.6"
    },
    "colab": {
      "name": "Copy of mini-batch-logistic-regression-evaluator.ipynb",
      "provenance": [],
      "include_colab_link": true
    },
    "accelerator": "GPU",
    "widgets": {
      "application/vnd.jupyter.widget-state+json": {
        "18ea8973ca674791adbc2f5262316199": {
          "model_module": "@jupyter-widgets/controls",
          "model_name": "HBoxModel",
          "model_module_version": "1.5.0",
          "state": {
            "_view_name": "HBoxView",
            "_dom_classes": [],
            "_model_name": "HBoxModel",
            "_view_module": "@jupyter-widgets/controls",
            "_model_module_version": "1.5.0",
            "_view_count": null,
            "_view_module_version": "1.5.0",
            "box_style": "",
            "layout": "IPY_MODEL_961733e919184ebdab42a4b16ed8ac39",
            "_model_module": "@jupyter-widgets/controls",
            "children": [
              "IPY_MODEL_39439aab9398436fb4578c90f68ee1c2",
              "IPY_MODEL_121a82b7474c4040bb1f79d8e84e025e",
              "IPY_MODEL_ee43f26ffcd74c6d81e5bb2f91246f8f"
            ]
          }
        },
        "961733e919184ebdab42a4b16ed8ac39": {
          "model_module": "@jupyter-widgets/base",
          "model_name": "LayoutModel",
          "model_module_version": "1.2.0",
          "state": {
            "_view_name": "LayoutView",
            "grid_template_rows": null,
            "right": null,
            "justify_content": null,
            "_view_module": "@jupyter-widgets/base",
            "overflow": null,
            "_model_module_version": "1.2.0",
            "_view_count": null,
            "flex_flow": null,
            "width": null,
            "min_width": null,
            "border": null,
            "align_items": null,
            "bottom": null,
            "_model_module": "@jupyter-widgets/base",
            "top": null,
            "grid_column": null,
            "overflow_y": null,
            "overflow_x": null,
            "grid_auto_flow": null,
            "grid_area": null,
            "grid_template_columns": null,
            "flex": null,
            "_model_name": "LayoutModel",
            "justify_items": null,
            "grid_row": null,
            "max_height": null,
            "align_content": null,
            "visibility": null,
            "align_self": null,
            "height": null,
            "min_height": null,
            "padding": null,
            "grid_auto_rows": null,
            "grid_gap": null,
            "max_width": null,
            "order": null,
            "_view_module_version": "1.2.0",
            "grid_template_areas": null,
            "object_position": null,
            "object_fit": null,
            "grid_auto_columns": null,
            "margin": null,
            "display": null,
            "left": null
          }
        },
        "39439aab9398436fb4578c90f68ee1c2": {
          "model_module": "@jupyter-widgets/controls",
          "model_name": "HTMLModel",
          "model_module_version": "1.5.0",
          "state": {
            "_view_name": "HTMLView",
            "style": "IPY_MODEL_ff1db819936e4e828c8a24f9e4a6118a",
            "_dom_classes": [],
            "description": "",
            "_model_name": "HTMLModel",
            "placeholder": "​",
            "_view_module": "@jupyter-widgets/controls",
            "_model_module_version": "1.5.0",
            "value": "",
            "_view_count": null,
            "_view_module_version": "1.5.0",
            "description_tooltip": null,
            "_model_module": "@jupyter-widgets/controls",
            "layout": "IPY_MODEL_dd2224e928b542f8b0ef81dcac132e4c"
          }
        },
        "121a82b7474c4040bb1f79d8e84e025e": {
          "model_module": "@jupyter-widgets/controls",
          "model_name": "FloatProgressModel",
          "model_module_version": "1.5.0",
          "state": {
            "_view_name": "ProgressView",
            "style": "IPY_MODEL_58816800e98f4b3fa0cd2746f433e1f5",
            "_dom_classes": [],
            "description": "",
            "_model_name": "FloatProgressModel",
            "bar_style": "success",
            "max": 2640397119,
            "_view_module": "@jupyter-widgets/controls",
            "_model_module_version": "1.5.0",
            "value": 2640397119,
            "_view_count": null,
            "_view_module_version": "1.5.0",
            "orientation": "horizontal",
            "min": 0,
            "description_tooltip": null,
            "_model_module": "@jupyter-widgets/controls",
            "layout": "IPY_MODEL_3ad1a3a36ed647d68f76544050800a99"
          }
        },
        "ee43f26ffcd74c6d81e5bb2f91246f8f": {
          "model_module": "@jupyter-widgets/controls",
          "model_name": "HTMLModel",
          "model_module_version": "1.5.0",
          "state": {
            "_view_name": "HTMLView",
            "style": "IPY_MODEL_272966e271b5460090919a65785b3e9f",
            "_dom_classes": [],
            "description": "",
            "_model_name": "HTMLModel",
            "placeholder": "​",
            "_view_module": "@jupyter-widgets/controls",
            "_model_module_version": "1.5.0",
            "value": " 2640397312/? [01:53&lt;00:00, 52488935.10it/s]",
            "_view_count": null,
            "_view_module_version": "1.5.0",
            "description_tooltip": null,
            "_model_module": "@jupyter-widgets/controls",
            "layout": "IPY_MODEL_31f22d7007cd49c9b49ef8969e17112d"
          }
        },
        "ff1db819936e4e828c8a24f9e4a6118a": {
          "model_module": "@jupyter-widgets/controls",
          "model_name": "DescriptionStyleModel",
          "model_module_version": "1.5.0",
          "state": {
            "_view_name": "StyleView",
            "_model_name": "DescriptionStyleModel",
            "description_width": "",
            "_view_module": "@jupyter-widgets/base",
            "_model_module_version": "1.5.0",
            "_view_count": null,
            "_view_module_version": "1.2.0",
            "_model_module": "@jupyter-widgets/controls"
          }
        },
        "dd2224e928b542f8b0ef81dcac132e4c": {
          "model_module": "@jupyter-widgets/base",
          "model_name": "LayoutModel",
          "model_module_version": "1.2.0",
          "state": {
            "_view_name": "LayoutView",
            "grid_template_rows": null,
            "right": null,
            "justify_content": null,
            "_view_module": "@jupyter-widgets/base",
            "overflow": null,
            "_model_module_version": "1.2.0",
            "_view_count": null,
            "flex_flow": null,
            "width": null,
            "min_width": null,
            "border": null,
            "align_items": null,
            "bottom": null,
            "_model_module": "@jupyter-widgets/base",
            "top": null,
            "grid_column": null,
            "overflow_y": null,
            "overflow_x": null,
            "grid_auto_flow": null,
            "grid_area": null,
            "grid_template_columns": null,
            "flex": null,
            "_model_name": "LayoutModel",
            "justify_items": null,
            "grid_row": null,
            "max_height": null,
            "align_content": null,
            "visibility": null,
            "align_self": null,
            "height": null,
            "min_height": null,
            "padding": null,
            "grid_auto_rows": null,
            "grid_gap": null,
            "max_width": null,
            "order": null,
            "_view_module_version": "1.2.0",
            "grid_template_areas": null,
            "object_position": null,
            "object_fit": null,
            "grid_auto_columns": null,
            "margin": null,
            "display": null,
            "left": null
          }
        },
        "58816800e98f4b3fa0cd2746f433e1f5": {
          "model_module": "@jupyter-widgets/controls",
          "model_name": "ProgressStyleModel",
          "model_module_version": "1.5.0",
          "state": {
            "_view_name": "StyleView",
            "_model_name": "ProgressStyleModel",
            "description_width": "",
            "_view_module": "@jupyter-widgets/base",
            "_model_module_version": "1.5.0",
            "_view_count": null,
            "_view_module_version": "1.2.0",
            "bar_color": null,
            "_model_module": "@jupyter-widgets/controls"
          }
        },
        "3ad1a3a36ed647d68f76544050800a99": {
          "model_module": "@jupyter-widgets/base",
          "model_name": "LayoutModel",
          "model_module_version": "1.2.0",
          "state": {
            "_view_name": "LayoutView",
            "grid_template_rows": null,
            "right": null,
            "justify_content": null,
            "_view_module": "@jupyter-widgets/base",
            "overflow": null,
            "_model_module_version": "1.2.0",
            "_view_count": null,
            "flex_flow": null,
            "width": null,
            "min_width": null,
            "border": null,
            "align_items": null,
            "bottom": null,
            "_model_module": "@jupyter-widgets/base",
            "top": null,
            "grid_column": null,
            "overflow_y": null,
            "overflow_x": null,
            "grid_auto_flow": null,
            "grid_area": null,
            "grid_template_columns": null,
            "flex": null,
            "_model_name": "LayoutModel",
            "justify_items": null,
            "grid_row": null,
            "max_height": null,
            "align_content": null,
            "visibility": null,
            "align_self": null,
            "height": null,
            "min_height": null,
            "padding": null,
            "grid_auto_rows": null,
            "grid_gap": null,
            "max_width": null,
            "order": null,
            "_view_module_version": "1.2.0",
            "grid_template_areas": null,
            "object_position": null,
            "object_fit": null,
            "grid_auto_columns": null,
            "margin": null,
            "display": null,
            "left": null
          }
        },
        "272966e271b5460090919a65785b3e9f": {
          "model_module": "@jupyter-widgets/controls",
          "model_name": "DescriptionStyleModel",
          "model_module_version": "1.5.0",
          "state": {
            "_view_name": "StyleView",
            "_model_name": "DescriptionStyleModel",
            "description_width": "",
            "_view_module": "@jupyter-widgets/base",
            "_model_module_version": "1.5.0",
            "_view_count": null,
            "_view_module_version": "1.2.0",
            "_model_module": "@jupyter-widgets/controls"
          }
        },
        "31f22d7007cd49c9b49ef8969e17112d": {
          "model_module": "@jupyter-widgets/base",
          "model_name": "LayoutModel",
          "model_module_version": "1.2.0",
          "state": {
            "_view_name": "LayoutView",
            "grid_template_rows": null,
            "right": null,
            "justify_content": null,
            "_view_module": "@jupyter-widgets/base",
            "overflow": null,
            "_model_module_version": "1.2.0",
            "_view_count": null,
            "flex_flow": null,
            "width": null,
            "min_width": null,
            "border": null,
            "align_items": null,
            "bottom": null,
            "_model_module": "@jupyter-widgets/base",
            "top": null,
            "grid_column": null,
            "overflow_y": null,
            "overflow_x": null,
            "grid_auto_flow": null,
            "grid_area": null,
            "grid_template_columns": null,
            "flex": null,
            "_model_name": "LayoutModel",
            "justify_items": null,
            "grid_row": null,
            "max_height": null,
            "align_content": null,
            "visibility": null,
            "align_self": null,
            "height": null,
            "min_height": null,
            "padding": null,
            "grid_auto_rows": null,
            "grid_gap": null,
            "max_width": null,
            "order": null,
            "_view_module_version": "1.2.0",
            "grid_template_areas": null,
            "object_position": null,
            "object_fit": null,
            "grid_auto_columns": null,
            "margin": null,
            "display": null,
            "left": null
          }
        }
      }
    }
  },
  "cells": [
    {
      "cell_type": "markdown",
      "metadata": {
        "id": "view-in-github",
        "colab_type": "text"
      },
      "source": [
        "<a href=\"https://colab.research.google.com/github/Hoseung/ATM/blob/main/feature_eval/mini_batch_logistic_regression_evaluator.ipynb\" target=\"_parent\"><img src=\"https://colab.research.google.com/assets/colab-badge.svg\" alt=\"Open In Colab\"/></a>"
      ]
    },
    {
      "cell_type": "code",
      "metadata": {
        "id": "YUemQib7ZE4D"
      },
      "source": [
        "import torch\n",
        "import sys\n",
        "import numpy as np\n",
        "import os\n",
        "import yaml\n",
        "import matplotlib.pyplot as plt\n",
        "import torchvision"
      ],
      "execution_count": 1,
      "outputs": []
    },
    {
      "cell_type": "code",
      "metadata": {
        "id": "WSgRE1CcLqdS",
        "outputId": "1cbc001c-cdeb-4d13-92c2-c19590eacb64",
        "colab": {
          "base_uri": "https://localhost:8080/"
        }
      },
      "source": [
        "!pip install gdown"
      ],
      "execution_count": 2,
      "outputs": [
        {
          "output_type": "stream",
          "name": "stdout",
          "text": [
            "Requirement already satisfied: gdown in /usr/local/lib/python3.7/dist-packages (3.6.4)\n",
            "Requirement already satisfied: requests in /usr/local/lib/python3.7/dist-packages (from gdown) (2.23.0)\n",
            "Requirement already satisfied: tqdm in /usr/local/lib/python3.7/dist-packages (from gdown) (4.62.3)\n",
            "Requirement already satisfied: six in /usr/local/lib/python3.7/dist-packages (from gdown) (1.15.0)\n",
            "Requirement already satisfied: idna<3,>=2.5 in /usr/local/lib/python3.7/dist-packages (from requests->gdown) (2.10)\n",
            "Requirement already satisfied: urllib3!=1.25.0,!=1.25.1,<1.26,>=1.21.1 in /usr/local/lib/python3.7/dist-packages (from requests->gdown) (1.24.3)\n",
            "Requirement already satisfied: chardet<4,>=3.0.2 in /usr/local/lib/python3.7/dist-packages (from requests->gdown) (3.0.4)\n",
            "Requirement already satisfied: certifi>=2017.4.17 in /usr/local/lib/python3.7/dist-packages (from requests->gdown) (2021.5.30)\n"
          ]
        }
      ]
    },
    {
      "cell_type": "code",
      "metadata": {
        "id": "NOIJEui1ZziV"
      },
      "source": [
        "def get_file_id_by_model(folder_name):\n",
        "  file_id = {'resnet18_100-epochs_stl10': '14_nH2FkyKbt61cieQDiSbBVNP8-gtwgF',\n",
        "             'resnet18_100-epochs_cifar10': '1lc2aoVtrAetGn0PnTkOyFzPCIucOJq7C',\n",
        "             'resnet50_50-epochs_stl10': '1ByTKAUsdm_X7tLcii6oAEl5qFRqRMZSu'}\n",
        "  return file_id.get(folder_name, \"Model not found.\")"
      ],
      "execution_count": 3,
      "outputs": []
    },
    {
      "cell_type": "code",
      "metadata": {
        "id": "G7YMxsvEZMrX",
        "outputId": "dd35c3fb-3444-4ac7-efa3-3feefc73915f",
        "colab": {
          "base_uri": "https://localhost:8080/"
        }
      },
      "source": [
        "folder_name = 'resnet18_100-epochs_stl10'\n",
        "file_id = get_file_id_by_model(folder_name)\n",
        "print(folder_name, file_id)"
      ],
      "execution_count": 4,
      "outputs": [
        {
          "output_type": "stream",
          "name": "stdout",
          "text": [
            "resnet18_100-epochs_stl10 14_nH2FkyKbt61cieQDiSbBVNP8-gtwgF\n"
          ]
        }
      ]
    },
    {
      "cell_type": "code",
      "metadata": {
        "id": "PWZ8fet_YoJm",
        "outputId": "515b11f0-a0ed-4e93-8b20-e72e5f18c817",
        "colab": {
          "base_uri": "https://localhost:8080/"
        }
      },
      "source": [
        "# download and extract model files\n",
        "os.system('gdown https://drive.google.com/uc?id={}'.format(file_id))\n",
        "os.system('unzip {}'.format(folder_name))\n",
        "!ls"
      ],
      "execution_count": 5,
      "outputs": [
        {
          "output_type": "stream",
          "name": "stdout",
          "text": [
            "checkpoint_0100.pth.tar\n",
            "config.yml\n",
            "events.out.tfevents.1610901470.4cb2c837708d.2683858.0\n",
            "resnet18_100-epochs_stl10.zip\n",
            "sample_data\n",
            "training.log\n"
          ]
        }
      ]
    },
    {
      "cell_type": "code",
      "metadata": {
        "id": "3_nypQVEv-hn"
      },
      "source": [
        "from torch.utils.data import DataLoader\n",
        "import torchvision.transforms as transforms\n",
        "from torchvision import datasets"
      ],
      "execution_count": 6,
      "outputs": []
    },
    {
      "cell_type": "code",
      "metadata": {
        "id": "lDfbL3w_Z0Od",
        "outputId": "41ae47c0-987d-4803-ec93-9b9f478b001e",
        "colab": {
          "base_uri": "https://localhost:8080/"
        }
      },
      "source": [
        "device = 'cuda' if torch.cuda.is_available() else 'cpu'\n",
        "print(\"Using device:\", device)"
      ],
      "execution_count": 7,
      "outputs": [
        {
          "output_type": "stream",
          "name": "stdout",
          "text": [
            "Using device: cuda\n"
          ]
        }
      ]
    },
    {
      "cell_type": "code",
      "metadata": {
        "id": "BfIPl0G6_RrT"
      },
      "source": [
        "def get_stl10_data_loaders(download, batch_size=256):\n",
        "  train_dataset = datasets.STL10('./data', split='train', download=download,\n",
        "                                  transform=transforms.ToTensor())\n",
        "\n",
        "  train_loader = DataLoader(train_dataset, batch_size=batch_size,\n",
        "                            num_workers=10, drop_last=False, shuffle=True)\n",
        "  \n",
        "  test_dataset = datasets.STL10('./data', split='test', download=download,\n",
        "                                  transform=transforms.ToTensor())\n",
        "\n",
        "  test_loader = DataLoader(test_dataset, batch_size=2*batch_size,\n",
        "                            num_workers=10, drop_last=False, shuffle=False)\n",
        "  return train_loader, test_loader\n",
        "\n",
        "def get_cifar10_data_loaders(download, shuffle=False, batch_size=256):\n",
        "  train_dataset = datasets.CIFAR10('./data', train=True, download=download,\n",
        "                                  transform=transforms.ToTensor())\n",
        "\n",
        "  train_loader = DataLoader(train_dataset, batch_size=batch_size,\n",
        "                            num_workers=10, drop_last=False, shuffle=True)\n",
        "  \n",
        "  test_dataset = datasets.CIFAR10('./data', train=False, download=download,\n",
        "                                  transform=transforms.ToTensor())\n",
        "\n",
        "  test_loader = DataLoader(test_dataset, batch_size=2*batch_size,\n",
        "                            num_workers=10, drop_last=False, shuffle=False)\n",
        "  return train_loader, test_loader"
      ],
      "execution_count": 8,
      "outputs": []
    },
    {
      "cell_type": "code",
      "metadata": {
        "id": "6N8lYkbmDTaK"
      },
      "source": [
        "with open(os.path.join('./config.yml')) as file:\n",
        "  config = yaml.load(file)"
      ],
      "execution_count": 9,
      "outputs": []
    },
    {
      "cell_type": "code",
      "metadata": {
        "id": "a18lPD-tIle6"
      },
      "source": [
        "if config.arch == 'resnet18':\n",
        "  model = torchvision.models.resnet18(pretrained=False, num_classes=10).to(device)\n",
        "elif config.arch == 'resnet50':\n",
        "  model = torchvision.models.resnet50(pretrained=False, num_classes=10).to(device)"
      ],
      "execution_count": 10,
      "outputs": []
    },
    {
      "cell_type": "code",
      "metadata": {
        "id": "4AIfgq41GuTT"
      },
      "source": [
        "checkpoint = torch.load('checkpoint_0100.pth.tar', map_location=device)\n",
        "state_dict = checkpoint['state_dict']\n",
        "\n",
        "for k in list(state_dict.keys()):\n",
        "\n",
        "  if k.startswith('backbone.'):\n",
        "    if k.startswith('backbone') and not k.startswith('backbone.fc'):\n",
        "      # remove prefix\n",
        "      state_dict[k[len(\"backbone.\"):]] = state_dict[k]\n",
        "  del state_dict[k]"
      ],
      "execution_count": 11,
      "outputs": []
    },
    {
      "cell_type": "code",
      "metadata": {
        "id": "VVjA83PPJYWl"
      },
      "source": [
        "log = model.load_state_dict(state_dict, strict=False)\n",
        "assert log.missing_keys == ['fc.weight', 'fc.bias']"
      ],
      "execution_count": 12,
      "outputs": []
    },
    {
      "cell_type": "code",
      "metadata": {
        "id": "gFB6DVhAe1Zy",
        "outputId": "80fd4b8e-47c5-4e32-82f5-2d35fea5c7c0",
        "colab": {
          "base_uri": "https://localhost:8080/"
        }
      },
      "source": [
        "\n",
        "model.state_dict().keys()"
      ],
      "execution_count": 13,
      "outputs": [
        {
          "output_type": "execute_result",
          "data": {
            "text/plain": [
              "odict_keys(['conv1.weight', 'bn1.weight', 'bn1.bias', 'bn1.running_mean', 'bn1.running_var', 'bn1.num_batches_tracked', 'layer1.0.conv1.weight', 'layer1.0.bn1.weight', 'layer1.0.bn1.bias', 'layer1.0.bn1.running_mean', 'layer1.0.bn1.running_var', 'layer1.0.bn1.num_batches_tracked', 'layer1.0.conv2.weight', 'layer1.0.bn2.weight', 'layer1.0.bn2.bias', 'layer1.0.bn2.running_mean', 'layer1.0.bn2.running_var', 'layer1.0.bn2.num_batches_tracked', 'layer1.1.conv1.weight', 'layer1.1.bn1.weight', 'layer1.1.bn1.bias', 'layer1.1.bn1.running_mean', 'layer1.1.bn1.running_var', 'layer1.1.bn1.num_batches_tracked', 'layer1.1.conv2.weight', 'layer1.1.bn2.weight', 'layer1.1.bn2.bias', 'layer1.1.bn2.running_mean', 'layer1.1.bn2.running_var', 'layer1.1.bn2.num_batches_tracked', 'layer2.0.conv1.weight', 'layer2.0.bn1.weight', 'layer2.0.bn1.bias', 'layer2.0.bn1.running_mean', 'layer2.0.bn1.running_var', 'layer2.0.bn1.num_batches_tracked', 'layer2.0.conv2.weight', 'layer2.0.bn2.weight', 'layer2.0.bn2.bias', 'layer2.0.bn2.running_mean', 'layer2.0.bn2.running_var', 'layer2.0.bn2.num_batches_tracked', 'layer2.0.downsample.0.weight', 'layer2.0.downsample.1.weight', 'layer2.0.downsample.1.bias', 'layer2.0.downsample.1.running_mean', 'layer2.0.downsample.1.running_var', 'layer2.0.downsample.1.num_batches_tracked', 'layer2.1.conv1.weight', 'layer2.1.bn1.weight', 'layer2.1.bn1.bias', 'layer2.1.bn1.running_mean', 'layer2.1.bn1.running_var', 'layer2.1.bn1.num_batches_tracked', 'layer2.1.conv2.weight', 'layer2.1.bn2.weight', 'layer2.1.bn2.bias', 'layer2.1.bn2.running_mean', 'layer2.1.bn2.running_var', 'layer2.1.bn2.num_batches_tracked', 'layer3.0.conv1.weight', 'layer3.0.bn1.weight', 'layer3.0.bn1.bias', 'layer3.0.bn1.running_mean', 'layer3.0.bn1.running_var', 'layer3.0.bn1.num_batches_tracked', 'layer3.0.conv2.weight', 'layer3.0.bn2.weight', 'layer3.0.bn2.bias', 'layer3.0.bn2.running_mean', 'layer3.0.bn2.running_var', 'layer3.0.bn2.num_batches_tracked', 'layer3.0.downsample.0.weight', 'layer3.0.downsample.1.weight', 'layer3.0.downsample.1.bias', 'layer3.0.downsample.1.running_mean', 'layer3.0.downsample.1.running_var', 'layer3.0.downsample.1.num_batches_tracked', 'layer3.1.conv1.weight', 'layer3.1.bn1.weight', 'layer3.1.bn1.bias', 'layer3.1.bn1.running_mean', 'layer3.1.bn1.running_var', 'layer3.1.bn1.num_batches_tracked', 'layer3.1.conv2.weight', 'layer3.1.bn2.weight', 'layer3.1.bn2.bias', 'layer3.1.bn2.running_mean', 'layer3.1.bn2.running_var', 'layer3.1.bn2.num_batches_tracked', 'layer4.0.conv1.weight', 'layer4.0.bn1.weight', 'layer4.0.bn1.bias', 'layer4.0.bn1.running_mean', 'layer4.0.bn1.running_var', 'layer4.0.bn1.num_batches_tracked', 'layer4.0.conv2.weight', 'layer4.0.bn2.weight', 'layer4.0.bn2.bias', 'layer4.0.bn2.running_mean', 'layer4.0.bn2.running_var', 'layer4.0.bn2.num_batches_tracked', 'layer4.0.downsample.0.weight', 'layer4.0.downsample.1.weight', 'layer4.0.downsample.1.bias', 'layer4.0.downsample.1.running_mean', 'layer4.0.downsample.1.running_var', 'layer4.0.downsample.1.num_batches_tracked', 'layer4.1.conv1.weight', 'layer4.1.bn1.weight', 'layer4.1.bn1.bias', 'layer4.1.bn1.running_mean', 'layer4.1.bn1.running_var', 'layer4.1.bn1.num_batches_tracked', 'layer4.1.conv2.weight', 'layer4.1.bn2.weight', 'layer4.1.bn2.bias', 'layer4.1.bn2.running_mean', 'layer4.1.bn2.running_var', 'layer4.1.bn2.num_batches_tracked', 'fc.weight', 'fc.bias'])"
            ]
          },
          "metadata": {},
          "execution_count": 13
        }
      ]
    },
    {
      "cell_type": "code",
      "metadata": {
        "id": "_GC0a14uWRr6",
        "outputId": "db93d340-f5df-4c41-ff03-aee3827a2cf7",
        "colab": {
          "base_uri": "https://localhost:8080/",
          "height": 173,
          "referenced_widgets": [
            "18ea8973ca674791adbc2f5262316199",
            "961733e919184ebdab42a4b16ed8ac39",
            "39439aab9398436fb4578c90f68ee1c2",
            "121a82b7474c4040bb1f79d8e84e025e",
            "ee43f26ffcd74c6d81e5bb2f91246f8f",
            "ff1db819936e4e828c8a24f9e4a6118a",
            "dd2224e928b542f8b0ef81dcac132e4c",
            "58816800e98f4b3fa0cd2746f433e1f5",
            "3ad1a3a36ed647d68f76544050800a99",
            "272966e271b5460090919a65785b3e9f",
            "31f22d7007cd49c9b49ef8969e17112d"
          ]
        }
      },
      "source": [
        "if config.dataset_name == 'cifar10':\n",
        "  train_loader, test_loader = get_cifar10_data_loaders(download=True)\n",
        "elif config.dataset_name == 'stl10':\n",
        "  train_loader, test_loader = get_stl10_data_loaders(download=True)\n",
        "print(\"Dataset:\", config.dataset_name)"
      ],
      "execution_count": 14,
      "outputs": [
        {
          "output_type": "stream",
          "name": "stdout",
          "text": [
            "Downloading http://ai.stanford.edu/~acoates/stl10/stl10_binary.tar.gz to ./data/stl10_binary.tar.gz\n"
          ]
        },
        {
          "output_type": "display_data",
          "data": {
            "application/vnd.jupyter.widget-view+json": {
              "model_id": "18ea8973ca674791adbc2f5262316199",
              "version_minor": 0,
              "version_major": 2
            },
            "text/plain": [
              "  0%|          | 0/2640397119 [00:00<?, ?it/s]"
            ]
          },
          "metadata": {}
        },
        {
          "output_type": "stream",
          "name": "stdout",
          "text": [
            "Extracting ./data/stl10_binary.tar.gz to ./data\n"
          ]
        },
        {
          "output_type": "stream",
          "name": "stderr",
          "text": [
            "/usr/local/lib/python3.7/dist-packages/torch/utils/data/dataloader.py:481: UserWarning: This DataLoader will create 10 worker processes in total. Our suggested max number of worker in current system is 2, which is smaller than what this DataLoader is going to create. Please be aware that excessive worker creation might get DataLoader running slow or even freeze, lower the worker number to avoid potential slowness/freeze if necessary.\n",
            "  cpuset_checked))\n"
          ]
        },
        {
          "output_type": "stream",
          "name": "stdout",
          "text": [
            "Files already downloaded and verified\n",
            "Dataset: stl10\n"
          ]
        }
      ]
    },
    {
      "cell_type": "code",
      "metadata": {
        "id": "pYT_KsM0Mnnr"
      },
      "source": [
        "# freeze all layers but the last fc\n",
        "for name, param in model.named_parameters():\n",
        "    if name not in ['fc.weight', 'fc.bias']:\n",
        "        param.requires_grad = False\n",
        "\n",
        "parameters = list(filter(lambda p: p.requires_grad, model.parameters()))\n",
        "assert len(parameters) == 2  # fc.weight, fc.bias"
      ],
      "execution_count": 15,
      "outputs": []
    },
    {
      "cell_type": "code",
      "metadata": {
        "id": "aPVh1S_eMRDU"
      },
      "source": [
        "optimizer = torch.optim.Adam(model.parameters(), lr=0.0003, weight_decay=0.0008)\n",
        "criterion = torch.nn.CrossEntropyLoss().to(device)"
      ],
      "execution_count": 16,
      "outputs": []
    },
    {
      "cell_type": "code",
      "metadata": {
        "id": "edr6RhP2PdVq"
      },
      "source": [
        "def accuracy(output, target, topk=(1,)):\n",
        "    \"\"\"Computes the accuracy over the k top predictions for the specified values of k\"\"\"\n",
        "    with torch.no_grad():\n",
        "        maxk = max(topk)\n",
        "        batch_size = target.size(0)\n",
        "\n",
        "        _, pred = output.topk(maxk, 1, True, True)\n",
        "        pred = pred.t()\n",
        "        correct = pred.eq(target.view(1, -1).expand_as(pred))\n",
        "\n",
        "        res = []\n",
        "        for k in topk:\n",
        "            correct_k = correct[:k].reshape(-1).float().sum(0, keepdim=True)\n",
        "            res.append(correct_k.mul_(100.0 / batch_size))\n",
        "        return res"
      ],
      "execution_count": 17,
      "outputs": []
    },
    {
      "cell_type": "code",
      "metadata": {
        "id": "qOder0dAMI7X",
        "outputId": "d0e991cf-8c38-450c-d6b8-28cf11d40572",
        "colab": {
          "base_uri": "https://localhost:8080/"
        }
      },
      "source": [
        "epochs = 100\n",
        "for epoch in range(epochs):\n",
        "  top1_train_accuracy = 0\n",
        "  for counter, (x_batch, y_batch) in enumerate(train_loader):\n",
        "    x_batch = x_batch.to(device)\n",
        "    y_batch = y_batch.to(device)\n",
        "\n",
        "    logits = model(x_batch)\n",
        "    loss = criterion(logits, y_batch)\n",
        "    \n",
        "    top1 = accuracy(logits, y_batch, topk=(1,))\n",
        "    top1_train_accuracy += top1[0]\n",
        "\n",
        "    optimizer.zero_grad()\n",
        "    loss.backward()\n",
        "    optimizer.step()\n",
        "\n",
        "  top1_train_accuracy /= (counter + 1)\n",
        "  top1_accuracy = 0\n",
        "  top5_accuracy = 0\n",
        "  for counter, (x_batch, y_batch) in enumerate(test_loader):\n",
        "    x_batch = x_batch.to(device)\n",
        "    y_batch = y_batch.to(device)\n",
        "\n",
        "    logits = model(x_batch)\n",
        "  \n",
        "    top1, top5 = accuracy(logits, y_batch, topk=(1,5))\n",
        "    top1_accuracy += top1[0]\n",
        "    top5_accuracy += top5[0]\n",
        "  \n",
        "  top1_accuracy /= (counter + 1)\n",
        "  top5_accuracy /= (counter + 1)\n",
        "  print(f\"Epoch {epoch}\\tTop1 Train accuracy {top1_train_accuracy.item()}\\tTop1 Test accuracy: {top1_accuracy.item()}\\tTop5 test acc: {top5_accuracy.item()}\")"
      ],
      "execution_count": 18,
      "outputs": [
        {
          "output_type": "stream",
          "name": "stderr",
          "text": [
            "/usr/local/lib/python3.7/dist-packages/torch/utils/data/dataloader.py:481: UserWarning: This DataLoader will create 10 worker processes in total. Our suggested max number of worker in current system is 2, which is smaller than what this DataLoader is going to create. Please be aware that excessive worker creation might get DataLoader running slow or even freeze, lower the worker number to avoid potential slowness/freeze if necessary.\n",
            "  cpuset_checked))\n",
            "/usr/local/lib/python3.7/dist-packages/torch/nn/functional.py:718: UserWarning: Named tensors and all their associated APIs are an experimental feature and subject to change. Please do not use them for anything important until they are released as stable. (Triggered internally at  /pytorch/c10/core/TensorImpl.h:1156.)\n",
            "  return torch.max_pool2d(input, kernel_size, stride, padding, dilation, ceil_mode)\n"
          ]
        },
        {
          "output_type": "stream",
          "name": "stdout",
          "text": [
            "Epoch 0\tTop1 Train accuracy 21.449909210205078\tTop1 Test accuracy: 34.931640625\tTop5 test acc: 86.78466796875\n",
            "Epoch 1\tTop1 Train accuracy 41.07881546020508\tTop1 Test accuracy: 46.5087890625\tTop5 test acc: 93.7451171875\n",
            "Epoch 2\tTop1 Train accuracy 51.107540130615234\tTop1 Test accuracy: 52.13134765625\tTop5 test acc: 95.41015625\n",
            "Epoch 3\tTop1 Train accuracy 55.83984375\tTop1 Test accuracy: 56.2939453125\tTop5 test acc: 96.45263671875\n",
            "Epoch 4\tTop1 Train accuracy 58.98897171020508\tTop1 Test accuracy: 58.51318359375\tTop5 test acc: 96.42822265625\n",
            "Epoch 5\tTop1 Train accuracy 59.37614822387695\tTop1 Test accuracy: 59.00390625\tTop5 test acc: 96.787109375\n",
            "Epoch 6\tTop1 Train accuracy 61.317787170410156\tTop1 Test accuracy: 60.6005859375\tTop5 test acc: 97.07275390625\n",
            "Epoch 7\tTop1 Train accuracy 61.9255485534668\tTop1 Test accuracy: 61.0400390625\tTop5 test acc: 97.14111328125\n",
            "Epoch 8\tTop1 Train accuracy 62.7458610534668\tTop1 Test accuracy: 61.5478515625\tTop5 test acc: 97.2509765625\n",
            "Epoch 9\tTop1 Train accuracy 63.3478889465332\tTop1 Test accuracy: 62.12158203125\tTop5 test acc: 97.2998046875\n",
            "Epoch 10\tTop1 Train accuracy 63.8200798034668\tTop1 Test accuracy: 62.3779296875\tTop5 test acc: 97.36572265625\n",
            "Epoch 11\tTop1 Train accuracy 64.3336410522461\tTop1 Test accuracy: 62.6171875\tTop5 test acc: 97.34130859375\n",
            "Epoch 12\tTop1 Train accuracy 63.893611907958984\tTop1 Test accuracy: 62.73193359375\tTop5 test acc: 97.48291015625\n",
            "Epoch 13\tTop1 Train accuracy 64.5335464477539\tTop1 Test accuracy: 62.9541015625\tTop5 test acc: 97.4755859375\n",
            "Epoch 14\tTop1 Train accuracy 65.15740203857422\tTop1 Test accuracy: 63.33251953125\tTop5 test acc: 97.50732421875\n",
            "Epoch 15\tTop1 Train accuracy 64.89086151123047\tTop1 Test accuracy: 63.60107421875\tTop5 test acc: 97.5439453125\n",
            "Epoch 16\tTop1 Train accuracy 65.49402618408203\tTop1 Test accuracy: 63.6865234375\tTop5 test acc: 97.57568359375\n",
            "Epoch 17\tTop1 Train accuracy 65.53539276123047\tTop1 Test accuracy: 64.29443359375\tTop5 test acc: 97.58056640625\n",
            "Epoch 18\tTop1 Train accuracy 65.99264526367188\tTop1 Test accuracy: 64.3115234375\tTop5 test acc: 97.568359375\n",
            "Epoch 19\tTop1 Train accuracy 66.04549407958984\tTop1 Test accuracy: 64.4384765625\tTop5 test acc: 97.6416015625\n",
            "Epoch 20\tTop1 Train accuracy 66.32927703857422\tTop1 Test accuracy: 64.64599609375\tTop5 test acc: 97.67822265625\n",
            "Epoch 21\tTop1 Train accuracy 66.46599578857422\tTop1 Test accuracy: 64.92431640625\tTop5 test acc: 97.6171875\n",
            "Epoch 22\tTop1 Train accuracy 66.31778717041016\tTop1 Test accuracy: 65.10009765625\tTop5 test acc: 97.71484375\n",
            "Epoch 23\tTop1 Train accuracy 67.03699493408203\tTop1 Test accuracy: 65.44677734375\tTop5 test acc: 97.71484375\n",
            "Epoch 24\tTop1 Train accuracy 66.99333953857422\tTop1 Test accuracy: 65.4248046875\tTop5 test acc: 97.666015625\n",
            "Epoch 25\tTop1 Train accuracy 66.90486907958984\tTop1 Test accuracy: 65.4345703125\tTop5 test acc: 97.75146484375\n",
            "Epoch 26\tTop1 Train accuracy 67.08525085449219\tTop1 Test accuracy: 65.53955078125\tTop5 test acc: 97.7392578125\n",
            "Epoch 27\tTop1 Train accuracy 67.47587585449219\tTop1 Test accuracy: 65.59814453125\tTop5 test acc: 97.7392578125\n",
            "Epoch 28\tTop1 Train accuracy 67.30009460449219\tTop1 Test accuracy: 65.71533203125\tTop5 test acc: 97.763671875\n",
            "Epoch 29\tTop1 Train accuracy 67.65510559082031\tTop1 Test accuracy: 65.95458984375\tTop5 test acc: 97.77587890625\n",
            "Epoch 30\tTop1 Train accuracy 68.05032348632812\tTop1 Test accuracy: 66.05712890625\tTop5 test acc: 97.7880859375\n",
            "Epoch 31\tTop1 Train accuracy 68.1272964477539\tTop1 Test accuracy: 66.08642578125\tTop5 test acc: 97.8125\n",
            "Epoch 32\tTop1 Train accuracy 68.13419342041016\tTop1 Test accuracy: 66.10107421875\tTop5 test acc: 97.763671875\n",
            "Epoch 33\tTop1 Train accuracy 68.34099578857422\tTop1 Test accuracy: 66.2255859375\tTop5 test acc: 97.82470703125\n",
            "Epoch 34\tTop1 Train accuracy 68.93727111816406\tTop1 Test accuracy: 66.41845703125\tTop5 test acc: 97.92236328125\n",
            "Epoch 35\tTop1 Train accuracy 68.74655151367188\tTop1 Test accuracy: 66.55029296875\tTop5 test acc: 97.861328125\n",
            "Epoch 36\tTop1 Train accuracy 68.38235473632812\tTop1 Test accuracy: 66.474609375\tTop5 test acc: 97.9345703125\n",
            "Epoch 37\tTop1 Train accuracy 68.50414276123047\tTop1 Test accuracy: 66.796875\tTop5 test acc: 97.958984375\n",
            "Epoch 38\tTop1 Train accuracy 68.68681335449219\tTop1 Test accuracy: 66.66015625\tTop5 test acc: 97.97119140625\n",
            "Epoch 39\tTop1 Train accuracy 68.93956756591797\tTop1 Test accuracy: 66.75537109375\tTop5 test acc: 97.99560546875\n",
            "Epoch 40\tTop1 Train accuracy 69.14636993408203\tTop1 Test accuracy: 66.953125\tTop5 test acc: 97.99560546875\n",
            "Epoch 41\tTop1 Train accuracy 69.3968276977539\tTop1 Test accuracy: 67.08251953125\tTop5 test acc: 97.9833984375\n",
            "Epoch 42\tTop1 Train accuracy 69.16015625\tTop1 Test accuracy: 67.17529296875\tTop5 test acc: 98.056640625\n",
            "Epoch 43\tTop1 Train accuracy 69.42440032958984\tTop1 Test accuracy: 67.265625\tTop5 test acc: 98.0810546875\n",
            "Epoch 44\tTop1 Train accuracy 69.29228210449219\tTop1 Test accuracy: 67.34619140625\tTop5 test acc: 98.0322265625\n",
            "Epoch 45\tTop1 Train accuracy 69.50827026367188\tTop1 Test accuracy: 67.40966796875\tTop5 test acc: 98.04443359375\n",
            "Epoch 46\tTop1 Train accuracy 69.57836151123047\tTop1 Test accuracy: 67.44384765625\tTop5 test acc: 98.04443359375\n",
            "Epoch 47\tTop1 Train accuracy 69.7437973022461\tTop1 Test accuracy: 67.48779296875\tTop5 test acc: 98.06884765625\n",
            "Epoch 48\tTop1 Train accuracy 69.81962585449219\tTop1 Test accuracy: 67.59521484375\tTop5 test acc: 98.056640625\n",
            "Epoch 49\tTop1 Train accuracy 70.0608901977539\tTop1 Test accuracy: 67.57080078125\tTop5 test acc: 98.056640625\n",
            "Epoch 50\tTop1 Train accuracy 69.97702026367188\tTop1 Test accuracy: 67.6513671875\tTop5 test acc: 98.11767578125\n",
            "Epoch 51\tTop1 Train accuracy 70.03331756591797\tTop1 Test accuracy: 67.744140625\tTop5 test acc: 98.09326171875\n",
            "Epoch 52\tTop1 Train accuracy 70.13557434082031\tTop1 Test accuracy: 67.73681640625\tTop5 test acc: 98.0810546875\n",
            "Epoch 53\tTop1 Train accuracy 70.40670776367188\tTop1 Test accuracy: 67.81494140625\tTop5 test acc: 98.04443359375\n",
            "Epoch 54\tTop1 Train accuracy 70.27918243408203\tTop1 Test accuracy: 67.81494140625\tTop5 test acc: 98.10546875\n",
            "Epoch 55\tTop1 Train accuracy 70.13557434082031\tTop1 Test accuracy: 67.86865234375\tTop5 test acc: 98.10546875\n",
            "Epoch 56\tTop1 Train accuracy 70.65142059326172\tTop1 Test accuracy: 67.91259765625\tTop5 test acc: 98.06884765625\n",
            "Epoch 57\tTop1 Train accuracy 70.81571960449219\tTop1 Test accuracy: 68.056640625\tTop5 test acc: 98.14208984375\n",
            "Epoch 58\tTop1 Train accuracy 70.6227035522461\tTop1 Test accuracy: 68.06396484375\tTop5 test acc: 98.11767578125\n",
            "Epoch 59\tTop1 Train accuracy 71.00643157958984\tTop1 Test accuracy: 67.98095703125\tTop5 test acc: 98.14208984375\n",
            "Epoch 60\tTop1 Train accuracy 71.02251434326172\tTop1 Test accuracy: 68.193359375\tTop5 test acc: 98.16650390625\n",
            "Epoch 61\tTop1 Train accuracy 70.74104309082031\tTop1 Test accuracy: 68.23974609375\tTop5 test acc: 98.16650390625\n",
            "Epoch 62\tTop1 Train accuracy 70.97081756591797\tTop1 Test accuracy: 68.0517578125\tTop5 test acc: 98.154296875\n",
            "Epoch 63\tTop1 Train accuracy 70.85592651367188\tTop1 Test accuracy: 68.15185546875\tTop5 test acc: 98.203125\n",
            "Epoch 64\tTop1 Train accuracy 71.21782684326172\tTop1 Test accuracy: 68.28125\tTop5 test acc: 98.16650390625\n",
            "Epoch 65\tTop1 Train accuracy 71.59236907958984\tTop1 Test accuracy: 68.291015625\tTop5 test acc: 98.154296875\n",
            "Epoch 66\tTop1 Train accuracy 71.4430160522461\tTop1 Test accuracy: 68.2568359375\tTop5 test acc: 98.1298828125\n",
            "Epoch 67\tTop1 Train accuracy 71.23851776123047\tTop1 Test accuracy: 68.35693359375\tTop5 test acc: 98.154296875\n",
            "Epoch 68\tTop1 Train accuracy 71.47863006591797\tTop1 Test accuracy: 68.28125\tTop5 test acc: 98.14208984375\n",
            "Epoch 69\tTop1 Train accuracy 71.2672348022461\tTop1 Test accuracy: 68.40576171875\tTop5 test acc: 98.16650390625\n",
            "Epoch 70\tTop1 Train accuracy 71.23391723632812\tTop1 Test accuracy: 68.4765625\tTop5 test acc: 98.14208984375\n",
            "Epoch 71\tTop1 Train accuracy 71.35684967041016\tTop1 Test accuracy: 68.4228515625\tTop5 test acc: 98.19091796875\n",
            "Epoch 72\tTop1 Train accuracy 71.45336151123047\tTop1 Test accuracy: 68.53515625\tTop5 test acc: 98.154296875\n",
            "Epoch 73\tTop1 Train accuracy 71.30514526367188\tTop1 Test accuracy: 68.486328125\tTop5 test acc: 98.19091796875\n",
            "Epoch 74\tTop1 Train accuracy 71.67854309082031\tTop1 Test accuracy: 68.61328125\tTop5 test acc: 98.19091796875\n",
            "Epoch 75\tTop1 Train accuracy 71.46139526367188\tTop1 Test accuracy: 68.62548828125\tTop5 test acc: 98.16650390625\n",
            "Epoch 76\tTop1 Train accuracy 71.29251098632812\tTop1 Test accuracy: 68.671875\tTop5 test acc: 98.203125\n",
            "Epoch 77\tTop1 Train accuracy 71.61420440673828\tTop1 Test accuracy: 68.69873046875\tTop5 test acc: 98.1787109375\n",
            "Epoch 78\tTop1 Train accuracy 71.60961151123047\tTop1 Test accuracy: 68.818359375\tTop5 test acc: 98.1787109375\n",
            "Epoch 79\tTop1 Train accuracy 71.71530151367188\tTop1 Test accuracy: 68.74267578125\tTop5 test acc: 98.154296875\n",
            "Epoch 80\tTop1 Train accuracy 72.19324493408203\tTop1 Test accuracy: 68.94287109375\tTop5 test acc: 98.21533203125\n",
            "Epoch 81\tTop1 Train accuracy 72.14269256591797\tTop1 Test accuracy: 68.92822265625\tTop5 test acc: 98.16650390625\n",
            "Epoch 82\tTop1 Train accuracy 72.3023910522461\tTop1 Test accuracy: 68.916015625\tTop5 test acc: 98.154296875\n",
            "Epoch 83\tTop1 Train accuracy 72.04158782958984\tTop1 Test accuracy: 69.0869140625\tTop5 test acc: 98.21533203125\n",
            "Epoch 84\tTop1 Train accuracy 72.27826690673828\tTop1 Test accuracy: 69.02099609375\tTop5 test acc: 98.19091796875\n",
            "Epoch 85\tTop1 Train accuracy 72.3414535522461\tTop1 Test accuracy: 69.02587890625\tTop5 test acc: 98.16650390625\n",
            "Epoch 86\tTop1 Train accuracy 72.2828598022461\tTop1 Test accuracy: 68.9599609375\tTop5 test acc: 98.154296875\n",
            "Epoch 87\tTop1 Train accuracy 72.43106842041016\tTop1 Test accuracy: 68.90380859375\tTop5 test acc: 98.154296875\n",
            "Epoch 88\tTop1 Train accuracy 72.41613006591797\tTop1 Test accuracy: 69.0478515625\tTop5 test acc: 98.16650390625\n",
            "Epoch 89\tTop1 Train accuracy 72.12545776367188\tTop1 Test accuracy: 69.0673828125\tTop5 test acc: 98.1298828125\n",
            "Epoch 90\tTop1 Train accuracy 72.49311065673828\tTop1 Test accuracy: 69.09423828125\tTop5 test acc: 98.1298828125\n",
            "Epoch 91\tTop1 Train accuracy 72.78032684326172\tTop1 Test accuracy: 69.00634765625\tTop5 test acc: 98.1787109375\n",
            "Epoch 92\tTop1 Train accuracy 73.06640625\tTop1 Test accuracy: 69.00634765625\tTop5 test acc: 98.11767578125\n",
            "Epoch 93\tTop1 Train accuracy 72.78032684326172\tTop1 Test accuracy: 69.1162109375\tTop5 test acc: 98.1787109375\n",
            "Epoch 94\tTop1 Train accuracy 73.0055160522461\tTop1 Test accuracy: 69.12353515625\tTop5 test acc: 98.16650390625\n",
            "Epoch 95\tTop1 Train accuracy 72.68497467041016\tTop1 Test accuracy: 69.12353515625\tTop5 test acc: 98.154296875\n",
            "Epoch 96\tTop1 Train accuracy 72.58731842041016\tTop1 Test accuracy: 69.14306640625\tTop5 test acc: 98.14208984375\n",
            "Epoch 97\tTop1 Train accuracy 73.16866302490234\tTop1 Test accuracy: 69.23828125\tTop5 test acc: 98.251953125\n",
            "Epoch 98\tTop1 Train accuracy 72.67003631591797\tTop1 Test accuracy: 69.2529296875\tTop5 test acc: 98.19091796875\n",
            "Epoch 99\tTop1 Train accuracy 73.15372467041016\tTop1 Test accuracy: 69.27734375\tTop5 test acc: 98.154296875\n"
          ]
        }
      ]
    },
    {
      "cell_type": "code",
      "metadata": {
        "id": "dtYqHZirMNZk",
        "outputId": "fb6f21f9-20a7-40bb-ac3e-852c5248b3ab",
        "colab": {
          "base_uri": "https://localhost:8080/"
        }
      },
      "source": [
        "model"
      ],
      "execution_count": 19,
      "outputs": [
        {
          "output_type": "execute_result",
          "data": {
            "text/plain": [
              "ResNet(\n",
              "  (conv1): Conv2d(3, 64, kernel_size=(7, 7), stride=(2, 2), padding=(3, 3), bias=False)\n",
              "  (bn1): BatchNorm2d(64, eps=1e-05, momentum=0.1, affine=True, track_running_stats=True)\n",
              "  (relu): ReLU(inplace=True)\n",
              "  (maxpool): MaxPool2d(kernel_size=3, stride=2, padding=1, dilation=1, ceil_mode=False)\n",
              "  (layer1): Sequential(\n",
              "    (0): BasicBlock(\n",
              "      (conv1): Conv2d(64, 64, kernel_size=(3, 3), stride=(1, 1), padding=(1, 1), bias=False)\n",
              "      (bn1): BatchNorm2d(64, eps=1e-05, momentum=0.1, affine=True, track_running_stats=True)\n",
              "      (relu): ReLU(inplace=True)\n",
              "      (conv2): Conv2d(64, 64, kernel_size=(3, 3), stride=(1, 1), padding=(1, 1), bias=False)\n",
              "      (bn2): BatchNorm2d(64, eps=1e-05, momentum=0.1, affine=True, track_running_stats=True)\n",
              "    )\n",
              "    (1): BasicBlock(\n",
              "      (conv1): Conv2d(64, 64, kernel_size=(3, 3), stride=(1, 1), padding=(1, 1), bias=False)\n",
              "      (bn1): BatchNorm2d(64, eps=1e-05, momentum=0.1, affine=True, track_running_stats=True)\n",
              "      (relu): ReLU(inplace=True)\n",
              "      (conv2): Conv2d(64, 64, kernel_size=(3, 3), stride=(1, 1), padding=(1, 1), bias=False)\n",
              "      (bn2): BatchNorm2d(64, eps=1e-05, momentum=0.1, affine=True, track_running_stats=True)\n",
              "    )\n",
              "  )\n",
              "  (layer2): Sequential(\n",
              "    (0): BasicBlock(\n",
              "      (conv1): Conv2d(64, 128, kernel_size=(3, 3), stride=(2, 2), padding=(1, 1), bias=False)\n",
              "      (bn1): BatchNorm2d(128, eps=1e-05, momentum=0.1, affine=True, track_running_stats=True)\n",
              "      (relu): ReLU(inplace=True)\n",
              "      (conv2): Conv2d(128, 128, kernel_size=(3, 3), stride=(1, 1), padding=(1, 1), bias=False)\n",
              "      (bn2): BatchNorm2d(128, eps=1e-05, momentum=0.1, affine=True, track_running_stats=True)\n",
              "      (downsample): Sequential(\n",
              "        (0): Conv2d(64, 128, kernel_size=(1, 1), stride=(2, 2), bias=False)\n",
              "        (1): BatchNorm2d(128, eps=1e-05, momentum=0.1, affine=True, track_running_stats=True)\n",
              "      )\n",
              "    )\n",
              "    (1): BasicBlock(\n",
              "      (conv1): Conv2d(128, 128, kernel_size=(3, 3), stride=(1, 1), padding=(1, 1), bias=False)\n",
              "      (bn1): BatchNorm2d(128, eps=1e-05, momentum=0.1, affine=True, track_running_stats=True)\n",
              "      (relu): ReLU(inplace=True)\n",
              "      (conv2): Conv2d(128, 128, kernel_size=(3, 3), stride=(1, 1), padding=(1, 1), bias=False)\n",
              "      (bn2): BatchNorm2d(128, eps=1e-05, momentum=0.1, affine=True, track_running_stats=True)\n",
              "    )\n",
              "  )\n",
              "  (layer3): Sequential(\n",
              "    (0): BasicBlock(\n",
              "      (conv1): Conv2d(128, 256, kernel_size=(3, 3), stride=(2, 2), padding=(1, 1), bias=False)\n",
              "      (bn1): BatchNorm2d(256, eps=1e-05, momentum=0.1, affine=True, track_running_stats=True)\n",
              "      (relu): ReLU(inplace=True)\n",
              "      (conv2): Conv2d(256, 256, kernel_size=(3, 3), stride=(1, 1), padding=(1, 1), bias=False)\n",
              "      (bn2): BatchNorm2d(256, eps=1e-05, momentum=0.1, affine=True, track_running_stats=True)\n",
              "      (downsample): Sequential(\n",
              "        (0): Conv2d(128, 256, kernel_size=(1, 1), stride=(2, 2), bias=False)\n",
              "        (1): BatchNorm2d(256, eps=1e-05, momentum=0.1, affine=True, track_running_stats=True)\n",
              "      )\n",
              "    )\n",
              "    (1): BasicBlock(\n",
              "      (conv1): Conv2d(256, 256, kernel_size=(3, 3), stride=(1, 1), padding=(1, 1), bias=False)\n",
              "      (bn1): BatchNorm2d(256, eps=1e-05, momentum=0.1, affine=True, track_running_stats=True)\n",
              "      (relu): ReLU(inplace=True)\n",
              "      (conv2): Conv2d(256, 256, kernel_size=(3, 3), stride=(1, 1), padding=(1, 1), bias=False)\n",
              "      (bn2): BatchNorm2d(256, eps=1e-05, momentum=0.1, affine=True, track_running_stats=True)\n",
              "    )\n",
              "  )\n",
              "  (layer4): Sequential(\n",
              "    (0): BasicBlock(\n",
              "      (conv1): Conv2d(256, 512, kernel_size=(3, 3), stride=(2, 2), padding=(1, 1), bias=False)\n",
              "      (bn1): BatchNorm2d(512, eps=1e-05, momentum=0.1, affine=True, track_running_stats=True)\n",
              "      (relu): ReLU(inplace=True)\n",
              "      (conv2): Conv2d(512, 512, kernel_size=(3, 3), stride=(1, 1), padding=(1, 1), bias=False)\n",
              "      (bn2): BatchNorm2d(512, eps=1e-05, momentum=0.1, affine=True, track_running_stats=True)\n",
              "      (downsample): Sequential(\n",
              "        (0): Conv2d(256, 512, kernel_size=(1, 1), stride=(2, 2), bias=False)\n",
              "        (1): BatchNorm2d(512, eps=1e-05, momentum=0.1, affine=True, track_running_stats=True)\n",
              "      )\n",
              "    )\n",
              "    (1): BasicBlock(\n",
              "      (conv1): Conv2d(512, 512, kernel_size=(3, 3), stride=(1, 1), padding=(1, 1), bias=False)\n",
              "      (bn1): BatchNorm2d(512, eps=1e-05, momentum=0.1, affine=True, track_running_stats=True)\n",
              "      (relu): ReLU(inplace=True)\n",
              "      (conv2): Conv2d(512, 512, kernel_size=(3, 3), stride=(1, 1), padding=(1, 1), bias=False)\n",
              "      (bn2): BatchNorm2d(512, eps=1e-05, momentum=0.1, affine=True, track_running_stats=True)\n",
              "    )\n",
              "  )\n",
              "  (avgpool): AdaptiveAvgPool2d(output_size=(1, 1))\n",
              "  (fc): Linear(in_features=512, out_features=10, bias=True)\n",
              ")"
            ]
          },
          "metadata": {},
          "execution_count": 19
        }
      ]
    },
    {
      "cell_type": "code",
      "metadata": {
        "id": "xiaMtv5_7cAI"
      },
      "source": [
        "여긴 왜 첨부터 이렇게 높냐? "
      ],
      "execution_count": null,
      "outputs": []
    }
  ]
}