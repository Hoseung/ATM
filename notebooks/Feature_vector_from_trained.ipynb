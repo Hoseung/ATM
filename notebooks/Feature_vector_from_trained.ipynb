{
 "cells": [
  {
   "cell_type": "markdown",
   "id": "9c5eabb7-4fea-4e6f-8053-aa867251bff7",
   "metadata": {},
   "source": [
    "음.... ResNet50 feature vector width는 128이 아니고 2048임...???? "
   ]
  }
 ],
 "metadata": {
  "kernelspec": {
   "display_name": "Python 3",
   "language": "python",
   "name": "python3"
  },
  "language_info": {
   "codemirror_mode": {
    "name": "ipython",
    "version": 3
   },
   "file_extension": ".py",
   "mimetype": "text/x-python",
   "name": "python",
   "nbconvert_exporter": "python",
   "pygments_lexer": "ipython3",
   "version": "3.8.10"
  }
 },
 "nbformat": 4,
 "nbformat_minor": 5
}
