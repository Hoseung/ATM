{
 "cells": [
  {
   "cell_type": "markdown",
   "metadata": {
    "colab_type": "text",
    "id": "view-in-github"
   },
   "source": [
    "<a href=\"https://colab.research.google.com/github/Hoseung/ATM/blob/main/feature_eval/mini_batch_logistic_regression_evaluator.ipynb\" target=\"_parent\"><img src=\"https://colab.research.google.com/assets/colab-badge.svg\" alt=\"Open In Colab\"/></a>"
   ]
  },
  {
   "cell_type": "code",
   "execution_count": 1,
   "metadata": {
    "id": "YUemQib7ZE4D"
   },
   "outputs": [],
   "source": [
    "import torch\n",
    "import sys\n",
    "import numpy as np\n",
    "import os\n",
    "import yaml\n",
    "import matplotlib.pyplot as plt\n",
    "import torchvision"
   ]
  },
  {
   "cell_type": "code",
   "execution_count": 2,
   "metadata": {
    "colab": {
     "base_uri": "https://localhost:8080/"
    },
    "id": "WSgRE1CcLqdS",
    "outputId": "1cbc001c-cdeb-4d13-92c2-c19590eacb64"
   },
   "outputs": [
    {
     "name": "stdout",
     "output_type": "stream",
     "text": [
      "Requirement already satisfied: gdown in /home/hoseung/anaconda3/envs/tm39/lib/python3.8/site-packages (3.13.0)\n",
      "Requirement already satisfied: tqdm in /home/hoseung/anaconda3/envs/tm39/lib/python3.8/site-packages (from gdown) (4.61.2)\n",
      "Requirement already satisfied: filelock in /home/hoseung/anaconda3/envs/tm39/lib/python3.8/site-packages (from gdown) (3.0.12)\n",
      "Requirement already satisfied: six in /home/hoseung/anaconda3/envs/tm39/lib/python3.8/site-packages (from gdown) (1.16.0)\n",
      "Requirement already satisfied: requests[socks]>=2.12.0 in /home/hoseung/anaconda3/envs/tm39/lib/python3.8/site-packages (from gdown) (2.25.1)\n",
      "Requirement already satisfied: urllib3<1.27,>=1.21.1 in /home/hoseung/anaconda3/envs/tm39/lib/python3.8/site-packages (from requests[socks]>=2.12.0->gdown) (1.26.6)\n",
      "Requirement already satisfied: chardet<5,>=3.0.2 in /home/hoseung/anaconda3/envs/tm39/lib/python3.8/site-packages (from requests[socks]>=2.12.0->gdown) (4.0.0)\n",
      "Requirement already satisfied: idna<3,>=2.5 in /home/hoseung/anaconda3/envs/tm39/lib/python3.8/site-packages (from requests[socks]>=2.12.0->gdown) (2.10)\n",
      "Requirement already satisfied: certifi>=2017.4.17 in /home/hoseung/anaconda3/envs/tm39/lib/python3.8/site-packages (from requests[socks]>=2.12.0->gdown) (2021.5.30)\n",
      "Requirement already satisfied: PySocks!=1.5.7,>=1.5.6 in /home/hoseung/anaconda3/envs/tm39/lib/python3.8/site-packages (from requests[socks]>=2.12.0->gdown) (1.7.1)\n"
     ]
    }
   ],
   "source": [
    "!pip install gdown"
   ]
  },
  {
   "cell_type": "code",
   "execution_count": 3,
   "metadata": {
    "id": "NOIJEui1ZziV"
   },
   "outputs": [],
   "source": [
    "def get_file_id_by_model(folder_name):\n",
    "  file_id = {'resnet18_100-epochs_stl10': '14_nH2FkyKbt61cieQDiSbBVNP8-gtwgF',\n",
    "             'resnet18_100-epochs_cifar10': '1lc2aoVtrAetGn0PnTkOyFzPCIucOJq7C',\n",
    "             'resnet50_50-epochs_stl10': '1ByTKAUsdm_X7tLcii6oAEl5qFRqRMZSu'}\n",
    "  return file_id.get(folder_name, \"Model not found.\")"
   ]
  },
  {
   "cell_type": "code",
   "execution_count": 4,
   "metadata": {
    "colab": {
     "base_uri": "https://localhost:8080/"
    },
    "id": "G7YMxsvEZMrX",
    "outputId": "dd35c3fb-3444-4ac7-efa3-3feefc73915f"
   },
   "outputs": [
    {
     "name": "stdout",
     "output_type": "stream",
     "text": [
      "resnet18_100-epochs_stl10 14_nH2FkyKbt61cieQDiSbBVNP8-gtwgF\n"
     ]
    }
   ],
   "source": [
    "folder_name = 'resnet18_100-epochs_stl10'\n",
    "file_id = get_file_id_by_model(folder_name)\n",
    "print(folder_name, file_id)"
   ]
  },
  {
   "cell_type": "code",
   "execution_count": 5,
   "metadata": {
    "colab": {
     "base_uri": "https://localhost:8080/"
    },
    "id": "PWZ8fet_YoJm",
    "outputId": "515b11f0-a0ed-4e93-8b20-e72e5f18c817"
   },
   "outputs": [
    {
     "name": "stdout",
     "output_type": "stream",
     "text": [
      "20210930-003639_cifar10_resnet18_3_transfer\n",
      "20210930-003946_cifar10_resnet18_3_transfer\n",
      "20210930-004231_cifar10_resnet18_3_transfer\n",
      "20210930-011132_cifar10_resnet18_3_transfer\n",
      "20210930-011648_cifar10_resnet18_3_transfer\n",
      "20210930-014243_cifar10_resnet18_3_transfer\n",
      "checkpoint_0100.pth.tar\n",
      "config.yml\n",
      "data\n",
      "events.out.tfevents.1610901470.4cb2c837708d.2683858.0\n",
      "mini_batch_logistic_regression_evaluator.ipynb\n",
      "resnet18_100-epochs_stl10.zip\n",
      "training.log\n"
     ]
    }
   ],
   "source": [
    "# download and extract model files\n",
    "os.system('gdown https://drive.google.com/uc?id={}'.format(file_id))\n",
    "os.system('unzip {}'.format(folder_name))\n",
    "!ls"
   ]
  },
  {
   "cell_type": "code",
   "execution_count": 6,
   "metadata": {
    "id": "3_nypQVEv-hn"
   },
   "outputs": [],
   "source": [
    "from torch.utils.data import DataLoader\n",
    "import torchvision.transforms as transforms\n",
    "from torchvision import datasets"
   ]
  },
  {
   "cell_type": "code",
   "execution_count": 7,
   "metadata": {
    "colab": {
     "base_uri": "https://localhost:8080/"
    },
    "id": "lDfbL3w_Z0Od",
    "outputId": "41ae47c0-987d-4803-ec93-9b9f478b001e"
   },
   "outputs": [
    {
     "name": "stdout",
     "output_type": "stream",
     "text": [
      "Using device: cuda\n"
     ]
    }
   ],
   "source": [
    "device = 'cuda' if torch.cuda.is_available() else 'cpu'\n",
    "print(\"Using device:\", device)"
   ]
  },
  {
   "cell_type": "code",
   "execution_count": 8,
   "metadata": {
    "id": "BfIPl0G6_RrT"
   },
   "outputs": [],
   "source": [
    "def get_stl10_data_loaders(download, batch_size=256):\n",
    "  train_dataset = datasets.STL10('./data', split='train', download=download,\n",
    "                                  transform=transforms.ToTensor())\n",
    "\n",
    "  train_loader = DataLoader(train_dataset, batch_size=batch_size,\n",
    "                            num_workers=10, drop_last=False, shuffle=True)\n",
    "  \n",
    "  test_dataset = datasets.STL10('./data', split='test', download=download,\n",
    "                                  transform=transforms.ToTensor())\n",
    "\n",
    "  test_loader = DataLoader(test_dataset, batch_size=2*batch_size,\n",
    "                            num_workers=10, drop_last=False, shuffle=False)\n",
    "  return train_loader, test_loader\n",
    "\n",
    "def get_cifar10_data_loaders(download, shuffle=False, batch_size=256):\n",
    "  train_dataset = datasets.CIFAR10('./data', train=True, download=download,\n",
    "                                  transform=transforms.ToTensor())\n",
    "\n",
    "  train_loader = DataLoader(train_dataset, batch_size=batch_size,\n",
    "                            num_workers=10, drop_last=False, shuffle=True)\n",
    "  \n",
    "  test_dataset = datasets.CIFAR10('./data', train=False, download=download,\n",
    "                                  transform=transforms.ToTensor())\n",
    "\n",
    "  test_loader = DataLoader(test_dataset, batch_size=2*batch_size,\n",
    "                            num_workers=10, drop_last=False, shuffle=False)\n",
    "  return train_loader, test_loader"
   ]
  },
  {
   "cell_type": "code",
   "execution_count": 9,
   "metadata": {
    "id": "6N8lYkbmDTaK"
   },
   "outputs": [],
   "source": [
    "dataset_name = 'stl10'\n",
    "arch = 'resnet18'"
   ]
  },
  {
   "cell_type": "code",
   "execution_count": 10,
   "metadata": {
    "id": "a18lPD-tIle6"
   },
   "outputs": [],
   "source": [
    "if arch == 'resnet18':\n",
    "    model = torchvision.models.resnet18(pretrained=False, num_classes=10).to(device)\n",
    "elif arch == 'resnet50':\n",
    "    model = torchvision.models.resnet50(pretrained=False, num_classes=10).to(device)"
   ]
  },
  {
   "cell_type": "code",
   "execution_count": 11,
   "metadata": {
    "id": "4AIfgq41GuTT"
   },
   "outputs": [],
   "source": [
    "checkpoint = torch.load('checkpoint_0100.pth.tar', map_location=device)\n",
    "state_dict = checkpoint['state_dict']\n",
    "\n",
    "for k in list(state_dict.keys()):\n",
    "\n",
    "    if k.startswith('backbone.'):\n",
    "        if k.startswith('backbone') and not k.startswith('backbone.fc'):\n",
    "          # remove prefix\n",
    "          state_dict[k[len(\"backbone.\"):]] = state_dict[k]\n",
    "    del state_dict[k]"
   ]
  },
  {
   "cell_type": "code",
   "execution_count": 12,
   "metadata": {
    "id": "VVjA83PPJYWl"
   },
   "outputs": [],
   "source": [
    "log = model.load_state_dict(state_dict, strict=False)\n",
    "assert log.missing_keys == ['fc.weight', 'fc.bias']"
   ]
  },
  {
   "cell_type": "code",
   "execution_count": 14,
   "metadata": {
    "colab": {
     "base_uri": "https://localhost:8080/",
     "height": 173,
     "referenced_widgets": [
      "18ea8973ca674791adbc2f5262316199",
      "961733e919184ebdab42a4b16ed8ac39",
      "39439aab9398436fb4578c90f68ee1c2",
      "121a82b7474c4040bb1f79d8e84e025e",
      "ee43f26ffcd74c6d81e5bb2f91246f8f",
      "ff1db819936e4e828c8a24f9e4a6118a",
      "dd2224e928b542f8b0ef81dcac132e4c",
      "58816800e98f4b3fa0cd2746f433e1f5",
      "3ad1a3a36ed647d68f76544050800a99",
      "272966e271b5460090919a65785b3e9f",
      "31f22d7007cd49c9b49ef8969e17112d"
     ]
    },
    "id": "_GC0a14uWRr6",
    "outputId": "db93d340-f5df-4c41-ff03-aee3827a2cf7"
   },
   "outputs": [
    {
     "name": "stdout",
     "output_type": "stream",
     "text": [
      "Downloading http://ai.stanford.edu/~acoates/stl10/stl10_binary.tar.gz to ./data/stl10_binary.tar.gz\n"
     ]
    },
    {
     "data": {
      "application/vnd.jupyter.widget-view+json": {
       "model_id": "f57cbe6f5e60475784a181a50afb2a8e",
       "version_major": 2,
       "version_minor": 0
      },
      "text/plain": [
       "  0%|          | 0/2640397119 [00:00<?, ?it/s]"
      ]
     },
     "metadata": {},
     "output_type": "display_data"
    },
    {
     "name": "stdout",
     "output_type": "stream",
     "text": [
      "Extracting ./data/stl10_binary.tar.gz to ./data\n",
      "Files already downloaded and verified\n",
      "Dataset: stl10\n"
     ]
    }
   ],
   "source": [
    "if dataset_name == 'cifar10':\n",
    "    train_loader, test_loader = get_cifar10_data_loaders(download=True)\n",
    "elif dataset_name == 'stl10':\n",
    "    train_loader, test_loader = get_stl10_data_loaders(download=True)\n",
    "print(\"Dataset:\", dataset_name)"
   ]
  },
  {
   "cell_type": "code",
   "execution_count": 15,
   "metadata": {
    "id": "pYT_KsM0Mnnr"
   },
   "outputs": [],
   "source": [
    "# freeze all layers but the last fc\n",
    "for name, param in model.named_parameters():\n",
    "    if name not in ['fc.weight', 'fc.bias']:\n",
    "        param.requires_grad = False\n",
    "\n",
    "parameters = list(filter(lambda p: p.requires_grad, model.parameters()))\n",
    "assert len(parameters) == 2  # fc.weight, fc.bias"
   ]
  },
  {
   "cell_type": "code",
   "execution_count": 16,
   "metadata": {
    "id": "aPVh1S_eMRDU"
   },
   "outputs": [],
   "source": [
    "optimizer = torch.optim.Adam(model.parameters(), lr=0.0003, weight_decay=0.0008)\n",
    "criterion = torch.nn.CrossEntropyLoss().to(device)"
   ]
  },
  {
   "cell_type": "code",
   "execution_count": 17,
   "metadata": {
    "id": "edr6RhP2PdVq"
   },
   "outputs": [],
   "source": [
    "def accuracy(output, target, topk=(1,)):\n",
    "    \"\"\"Computes the accuracy over the k top predictions for the specified values of k\"\"\"\n",
    "    with torch.no_grad():\n",
    "        maxk = max(topk)\n",
    "        batch_size = target.size(0)\n",
    "\n",
    "        _, pred = output.topk(maxk, 1, True, True)\n",
    "        pred = pred.t()\n",
    "        correct = pred.eq(target.view(1, -1).expand_as(pred))\n",
    "\n",
    "        res = []\n",
    "        for k in topk:\n",
    "            correct_k = correct[:k].reshape(-1).float().sum(0, keepdim=True)\n",
    "            res.append(correct_k.mul_(100.0 / batch_size))\n",
    "        return res"
   ]
  },
  {
   "cell_type": "code",
   "execution_count": 18,
   "metadata": {
    "colab": {
     "base_uri": "https://localhost:8080/"
    },
    "id": "qOder0dAMI7X",
    "outputId": "d0e991cf-8c38-450c-d6b8-28cf11d40572",
    "tags": []
   },
   "outputs": [
    {
     "name": "stderr",
     "output_type": "stream",
     "text": [
      "/home/hoseung/anaconda3/envs/tm39/lib/python3.8/site-packages/torch/nn/functional.py:718: UserWarning: Named tensors and all their associated APIs are an experimental feature and subject to change. Please do not use them for anything important until they are released as stable. (Triggered internally at  /opt/conda/conda-bld/pytorch_1623448278899/work/c10/core/TensorImpl.h:1156.)\n",
      "  return torch.max_pool2d(input, kernel_size, stride, padding, dilation, ceil_mode)\n"
     ]
    },
    {
     "name": "stdout",
     "output_type": "stream",
     "text": [
      "Epoch 0\tTop1 Train accuracy 20.58363914489746\tTop1 Test accuracy: 33.66943359375\tTop5 test acc: 83.935546875\n",
      "Epoch 1\tTop1 Train accuracy 42.52987289428711\tTop1 Test accuracy: 47.8759765625\tTop5 test acc: 92.85400390625\n",
      "Epoch 2\tTop1 Train accuracy 50.77780532836914\tTop1 Test accuracy: 52.90283203125\tTop5 test acc: 94.9853515625\n",
      "Epoch 3\tTop1 Train accuracy 55.58708572387695\tTop1 Test accuracy: 56.43798828125\tTop5 test acc: 96.16455078125\n",
      "Epoch 4\tTop1 Train accuracy 58.255977630615234\tTop1 Test accuracy: 58.1689453125\tTop5 test acc: 96.80419921875\n",
      "Epoch 5\tTop1 Train accuracy 60.1482048034668\tTop1 Test accuracy: 59.30419921875\tTop5 test acc: 96.8408203125\n",
      "Epoch 6\tTop1 Train accuracy 60.888099670410156\tTop1 Test accuracy: 60.31494140625\tTop5 test acc: 96.9873046875\n",
      "Epoch 7\tTop1 Train accuracy 61.448760986328125\tTop1 Test accuracy: 60.88134765625\tTop5 test acc: 97.1826171875\n",
      "Epoch 8\tTop1 Train accuracy 62.24149703979492\tTop1 Test accuracy: 61.51123046875\tTop5 test acc: 97.22412109375\n",
      "Epoch 9\tTop1 Train accuracy 62.77114486694336\tTop1 Test accuracy: 61.8701171875\tTop5 test acc: 97.353515625\n",
      "Epoch 10\tTop1 Train accuracy 63.544349670410156\tTop1 Test accuracy: 62.28271484375\tTop5 test acc: 97.37060546875\n",
      "Epoch 11\tTop1 Train accuracy 63.90395736694336\tTop1 Test accuracy: 62.63427734375\tTop5 test acc: 97.3828125\n",
      "Epoch 12\tTop1 Train accuracy 64.15901184082031\tTop1 Test accuracy: 63.03466796875\tTop5 test acc: 97.49267578125\n",
      "Epoch 13\tTop1 Train accuracy 64.51057434082031\tTop1 Test accuracy: 63.37890625\tTop5 test acc: 97.49267578125\n",
      "Epoch 14\tTop1 Train accuracy 64.45772552490234\tTop1 Test accuracy: 63.3837890625\tTop5 test acc: 97.529296875\n",
      "Epoch 15\tTop1 Train accuracy 64.41291809082031\tTop1 Test accuracy: 63.50830078125\tTop5 test acc: 97.548828125\n",
      "Epoch 16\tTop1 Train accuracy 65.14246368408203\tTop1 Test accuracy: 63.98681640625\tTop5 test acc: 97.578125\n",
      "Epoch 17\tTop1 Train accuracy 65.43657684326172\tTop1 Test accuracy: 64.11376953125\tTop5 test acc: 97.6025390625\n",
      "Epoch 18\tTop1 Train accuracy 65.60891723632812\tTop1 Test accuracy: 64.39453125\tTop5 test acc: 97.6708984375\n",
      "Epoch 19\tTop1 Train accuracy 65.59513092041016\tTop1 Test accuracy: 64.39208984375\tTop5 test acc: 97.6513671875\n",
      "Epoch 20\tTop1 Train accuracy 66.36833953857422\tTop1 Test accuracy: 64.67041015625\tTop5 test acc: 97.6513671875\n",
      "Epoch 21\tTop1 Train accuracy 66.54985809326172\tTop1 Test accuracy: 64.8291015625\tTop5 test acc: 97.63916015625\n",
      "Epoch 22\tTop1 Train accuracy 66.56135559082031\tTop1 Test accuracy: 64.98291015625\tTop5 test acc: 97.66357421875\n",
      "Epoch 23\tTop1 Train accuracy 66.31893157958984\tTop1 Test accuracy: 65.02685546875\tTop5 test acc: 97.7001953125\n",
      "Epoch 24\tTop1 Train accuracy 66.90602111816406\tTop1 Test accuracy: 65.234375\tTop5 test acc: 97.71240234375\n",
      "Epoch 25\tTop1 Train accuracy 67.19898986816406\tTop1 Test accuracy: 65.25390625\tTop5 test acc: 97.68798828125\n",
      "Epoch 26\tTop1 Train accuracy 67.38166809082031\tTop1 Test accuracy: 65.4296875\tTop5 test acc: 97.7001953125\n",
      "Epoch 27\tTop1 Train accuracy 67.50919342041016\tTop1 Test accuracy: 65.48583984375\tTop5 test acc: 97.73681640625\n",
      "Epoch 28\tTop1 Train accuracy 67.47932434082031\tTop1 Test accuracy: 65.62255859375\tTop5 test acc: 97.7001953125\n",
      "Epoch 29\tTop1 Train accuracy 68.01126098632812\tTop1 Test accuracy: 65.6640625\tTop5 test acc: 97.73681640625\n",
      "Epoch 30\tTop1 Train accuracy 68.04342651367188\tTop1 Test accuracy: 65.91796875\tTop5 test acc: 97.73681640625\n",
      "Epoch 31\tTop1 Train accuracy 67.95610809326172\tTop1 Test accuracy: 65.70068359375\tTop5 test acc: 97.73681640625\n",
      "Epoch 32\tTop1 Train accuracy 67.96415710449219\tTop1 Test accuracy: 66.1083984375\tTop5 test acc: 97.78564453125\n",
      "Epoch 33\tTop1 Train accuracy 68.29963684082031\tTop1 Test accuracy: 65.99853515625\tTop5 test acc: 97.7978515625\n",
      "Epoch 34\tTop1 Train accuracy 68.21001434326172\tTop1 Test accuracy: 66.142578125\tTop5 test acc: 97.7978515625\n",
      "Epoch 35\tTop1 Train accuracy 68.36052703857422\tTop1 Test accuracy: 66.2646484375\tTop5 test acc: 97.83447265625\n",
      "Epoch 36\tTop1 Train accuracy 68.62706756591797\tTop1 Test accuracy: 66.2841796875\tTop5 test acc: 97.8466796875\n",
      "Epoch 37\tTop1 Train accuracy 68.82353210449219\tTop1 Test accuracy: 66.41845703125\tTop5 test acc: 97.83447265625\n",
      "Epoch 38\tTop1 Train accuracy 68.77527618408203\tTop1 Test accuracy: 66.57958984375\tTop5 test acc: 97.8955078125\n",
      "Epoch 39\tTop1 Train accuracy 68.58226776123047\tTop1 Test accuracy: 66.7333984375\tTop5 test acc: 97.8466796875\n",
      "Epoch 40\tTop1 Train accuracy 68.85799407958984\tTop1 Test accuracy: 66.65283203125\tTop5 test acc: 97.88330078125\n",
      "Epoch 41\tTop1 Train accuracy 68.95565032958984\tTop1 Test accuracy: 66.72119140625\tTop5 test acc: 97.88330078125\n",
      "Epoch 42\tTop1 Train accuracy 69.2601089477539\tTop1 Test accuracy: 66.8994140625\tTop5 test acc: 97.919921875\n",
      "Epoch 43\tTop1 Train accuracy 69.45772552490234\tTop1 Test accuracy: 66.9482421875\tTop5 test acc: 97.90771484375\n",
      "Epoch 44\tTop1 Train accuracy 69.5921401977539\tTop1 Test accuracy: 67.13134765625\tTop5 test acc: 97.90771484375\n",
      "Epoch 45\tTop1 Train accuracy 69.26126098632812\tTop1 Test accuracy: 67.1435546875\tTop5 test acc: 97.88330078125\n",
      "Epoch 46\tTop1 Train accuracy 69.62890625\tTop1 Test accuracy: 67.099609375\tTop5 test acc: 97.90771484375\n",
      "Epoch 47\tTop1 Train accuracy 69.75528717041016\tTop1 Test accuracy: 67.255859375\tTop5 test acc: 97.98095703125\n",
      "Epoch 48\tTop1 Train accuracy 69.65648651123047\tTop1 Test accuracy: 67.36328125\tTop5 test acc: 97.95166015625\n",
      "Epoch 49\tTop1 Train accuracy 69.71967315673828\tTop1 Test accuracy: 67.44873046875\tTop5 test acc: 97.9931640625\n",
      "Epoch 50\tTop1 Train accuracy 69.921875\tTop1 Test accuracy: 67.421875\tTop5 test acc: 97.98828125\n",
      "Epoch 51\tTop1 Train accuracy 70.12523651123047\tTop1 Test accuracy: 67.53173828125\tTop5 test acc: 98.02490234375\n",
      "Epoch 52\tTop1 Train accuracy 70.0953598022461\tTop1 Test accuracy: 67.59521484375\tTop5 test acc: 98.02490234375\n",
      "Epoch 53\tTop1 Train accuracy 69.87017059326172\tTop1 Test accuracy: 67.75390625\tTop5 test acc: 98.037109375\n",
      "Epoch 54\tTop1 Train accuracy 69.77826690673828\tTop1 Test accuracy: 67.8076171875\tTop5 test acc: 98.037109375\n",
      "Epoch 55\tTop1 Train accuracy 70.25276184082031\tTop1 Test accuracy: 67.72216796875\tTop5 test acc: 98.07373046875\n",
      "Epoch 56\tTop1 Train accuracy 70.38028717041016\tTop1 Test accuracy: 67.880859375\tTop5 test acc: 98.037109375\n",
      "Epoch 57\tTop1 Train accuracy 70.25505828857422\tTop1 Test accuracy: 67.87353515625\tTop5 test acc: 98.0859375\n",
      "Epoch 58\tTop1 Train accuracy 70.41475677490234\tTop1 Test accuracy: 68.08837890625\tTop5 test acc: 98.12255859375\n",
      "Epoch 59\tTop1 Train accuracy 70.37454223632812\tTop1 Test accuracy: 68.10791015625\tTop5 test acc: 98.0615234375\n",
      "Epoch 60\tTop1 Train accuracy 70.44577026367188\tTop1 Test accuracy: 68.03955078125\tTop5 test acc: 98.134765625\n",
      "Epoch 61\tTop1 Train accuracy 71.02711486816406\tTop1 Test accuracy: 68.08837890625\tTop5 test acc: 98.14697265625\n",
      "Epoch 62\tTop1 Train accuracy 71.1155776977539\tTop1 Test accuracy: 68.2177734375\tTop5 test acc: 98.134765625\n",
      "Epoch 63\tTop1 Train accuracy 70.94669342041016\tTop1 Test accuracy: 68.32275390625\tTop5 test acc: 98.134765625\n",
      "Epoch 64\tTop1 Train accuracy 70.98805236816406\tTop1 Test accuracy: 68.32275390625\tTop5 test acc: 98.14208984375\n",
      "Epoch 65\tTop1 Train accuracy 71.11443328857422\tTop1 Test accuracy: 68.36669921875\tTop5 test acc: 98.134765625\n",
      "Epoch 66\tTop1 Train accuracy 70.79963684082031\tTop1 Test accuracy: 68.37158203125\tTop5 test acc: 98.14697265625\n",
      "Epoch 67\tTop1 Train accuracy 70.87545776367188\tTop1 Test accuracy: 68.486328125\tTop5 test acc: 98.12255859375\n",
      "Epoch 68\tTop1 Train accuracy 71.06847381591797\tTop1 Test accuracy: 68.5546875\tTop5 test acc: 98.1787109375\n",
      "Epoch 69\tTop1 Train accuracy 71.10639190673828\tTop1 Test accuracy: 68.44482421875\tTop5 test acc: 98.12255859375\n",
      "Epoch 70\tTop1 Train accuracy 71.80951690673828\tTop1 Test accuracy: 68.54248046875\tTop5 test acc: 98.14697265625\n",
      "Epoch 71\tTop1 Train accuracy 71.53492736816406\tTop1 Test accuracy: 68.5546875\tTop5 test acc: 98.16650390625\n",
      "Epoch 72\tTop1 Train accuracy 71.06847381591797\tTop1 Test accuracy: 68.59130859375\tTop5 test acc: 98.251953125\n",
      "Epoch 73\tTop1 Train accuracy 71.5062026977539\tTop1 Test accuracy: 68.68896484375\tTop5 test acc: 98.19091796875\n",
      "Epoch 74\tTop1 Train accuracy 71.22702026367188\tTop1 Test accuracy: 68.5595703125\tTop5 test acc: 98.154296875\n",
      "Epoch 75\tTop1 Train accuracy 71.80376434326172\tTop1 Test accuracy: 68.837890625\tTop5 test acc: 98.23974609375\n",
      "Epoch 76\tTop1 Train accuracy 71.77045440673828\tTop1 Test accuracy: 68.77197265625\tTop5 test acc: 98.18359375\n",
      "Epoch 77\tTop1 Train accuracy 71.55790710449219\tTop1 Test accuracy: 68.80126953125\tTop5 test acc: 98.2275390625\n",
      "Epoch 78\tTop1 Train accuracy 71.90717315673828\tTop1 Test accuracy: 68.80615234375\tTop5 test acc: 98.23974609375\n",
      "Epoch 79\tTop1 Train accuracy 71.86351776123047\tTop1 Test accuracy: 68.8232421875\tTop5 test acc: 98.251953125\n",
      "Epoch 80\tTop1 Train accuracy 71.49471282958984\tTop1 Test accuracy: 68.7841796875\tTop5 test acc: 98.23974609375\n",
      "Epoch 81\tTop1 Train accuracy 71.76586151123047\tTop1 Test accuracy: 68.9599609375\tTop5 test acc: 98.251953125\n",
      "Epoch 82\tTop1 Train accuracy 72.18635559082031\tTop1 Test accuracy: 68.8720703125\tTop5 test acc: 98.251953125\n",
      "Epoch 83\tTop1 Train accuracy 72.27251434326172\tTop1 Test accuracy: 68.916015625\tTop5 test acc: 98.251953125\n",
      "Epoch 84\tTop1 Train accuracy 72.18405151367188\tTop1 Test accuracy: 68.9794921875\tTop5 test acc: 98.24462890625\n",
      "Epoch 85\tTop1 Train accuracy 72.15763092041016\tTop1 Test accuracy: 68.9697265625\tTop5 test acc: 98.30078125\n",
      "Epoch 86\tTop1 Train accuracy 71.96461486816406\tTop1 Test accuracy: 68.916015625\tTop5 test acc: 98.23974609375\n",
      "Epoch 87\tTop1 Train accuracy 72.40119934082031\tTop1 Test accuracy: 69.0380859375\tTop5 test acc: 98.2275390625\n",
      "Epoch 88\tTop1 Train accuracy 72.72978210449219\tTop1 Test accuracy: 69.08203125\tTop5 test acc: 98.2763671875\n",
      "Epoch 89\tTop1 Train accuracy 72.08065032958984\tTop1 Test accuracy: 69.0087890625\tTop5 test acc: 98.26416015625\n",
      "Epoch 90\tTop1 Train accuracy 72.36788177490234\tTop1 Test accuracy: 69.228515625\tTop5 test acc: 98.23974609375\n",
      "Epoch 91\tTop1 Train accuracy 72.6930160522461\tTop1 Test accuracy: 69.23583984375\tTop5 test acc: 98.2275390625\n",
      "Epoch 92\tTop1 Train accuracy 72.58617401123047\tTop1 Test accuracy: 69.16259765625\tTop5 test acc: 98.232421875\n",
      "Epoch 93\tTop1 Train accuracy 72.5999526977539\tTop1 Test accuracy: 69.16259765625\tTop5 test acc: 98.24462890625\n",
      "Epoch 94\tTop1 Train accuracy 72.65740203857422\tTop1 Test accuracy: 69.14306640625\tTop5 test acc: 98.22021484375\n",
      "Epoch 95\tTop1 Train accuracy 72.95496368408203\tTop1 Test accuracy: 69.23095703125\tTop5 test acc: 98.232421875\n",
      "Epoch 96\tTop1 Train accuracy 72.3460464477539\tTop1 Test accuracy: 69.267578125\tTop5 test acc: 98.22021484375\n",
      "Epoch 97\tTop1 Train accuracy 72.85845184326172\tTop1 Test accuracy: 69.2919921875\tTop5 test acc: 98.26904296875\n",
      "Epoch 98\tTop1 Train accuracy 72.97449493408203\tTop1 Test accuracy: 69.287109375\tTop5 test acc: 98.26904296875\n",
      "Epoch 99\tTop1 Train accuracy 73.17784881591797\tTop1 Test accuracy: 69.37255859375\tTop5 test acc: 98.3056640625\n"
     ]
    }
   ],
   "source": [
    "n_channels=3\n",
    "import time\n",
    "from torch.utils.tensorboard import SummaryWriter\n",
    "timestr = time.strftime(\"%Y%m%d-%H%M%S\")\n",
    "log_dir = timestr + f\"_{dataset_name}_{arch}_{n_channels}_transfer\"\n",
    "writer = SummaryWriter(log_dir=log_dir)\n",
    "\n",
    "epochs = 100\n",
    "for epoch in range(epochs):\n",
    "    top1_train_accuracy = 0\n",
    "    for counter, (x_batch, y_batch) in enumerate(train_loader):\n",
    "        x_batch = x_batch.to(device)\n",
    "        y_batch = y_batch.to(device)\n",
    "\n",
    "        logits = model(x_batch)\n",
    "        loss = criterion(logits, y_batch)\n",
    "\n",
    "        top1 = accuracy(logits, y_batch, topk=(1,))\n",
    "        top1_train_accuracy += top1[0]\n",
    "\n",
    "        optimizer.zero_grad()\n",
    "        loss.backward()\n",
    "        optimizer.step()\n",
    "\n",
    "    top1_train_accuracy /= (counter + 1)\n",
    "    top1_accuracy = 0\n",
    "    top5_accuracy = 0\n",
    "    for counter, (x_batch, y_batch) in enumerate(test_loader):\n",
    "        x_batch = x_batch.to(device)\n",
    "        y_batch = y_batch.to(device)\n",
    "\n",
    "        logits = model(x_batch)\n",
    "\n",
    "        top1, top5 = accuracy(logits, y_batch, topk=(1,5))\n",
    "        top1_accuracy += top1[0]\n",
    "        top5_accuracy += top5[0]\n",
    "\n",
    "    top1_accuracy /= (counter + 1)\n",
    "    top5_accuracy /= (counter + 1)\n",
    "\n",
    "    # write everystep\n",
    "    writer.add_scalar('loss', loss, global_step=epoch)\n",
    "    writer.add_scalar('acc/top1', top1_accuracy, global_step=epoch)\n",
    "    writer.add_scalar('acc/top5', top5_accuracy, global_step=epoch)\n",
    "    #writer.add_scalar('learning_rate', self.scheduler.get_lr()[0], global_step=n_iter)\n",
    "\n",
    "    print(f\"Epoch {epoch}\\tTop1 Train accuracy {top1_train_accuracy.item()}\"\n",
    "            f\"\\tTop1 Test accuracy: {top1_accuracy.item()}\"\n",
    "            f\"\\tTop5 test acc: {top5_accuracy.item()}\")"
   ]
  },
  {
   "cell_type": "code",
   "execution_count": 19,
   "metadata": {},
   "outputs": [
    {
     "data": {
      "text/plain": [
       "tensor(0.8032, device='cuda:0', grad_fn=<NllLossBackward>)"
      ]
     },
     "execution_count": 19,
     "metadata": {},
     "output_type": "execute_result"
    }
   ],
   "source": [
    "loss"
   ]
  },
  {
   "cell_type": "code",
   "execution_count": 20,
   "metadata": {
    "collapsed": true,
    "id": "xiaMtv5_7cAI",
    "jupyter": {
     "outputs_hidden": true
    },
    "tags": []
   },
   "outputs": [
    {
     "data": {
      "text/plain": [
       "ResNet(\n",
       "  (conv1): Conv2d(3, 64, kernel_size=(7, 7), stride=(2, 2), padding=(3, 3), bias=False)\n",
       "  (bn1): BatchNorm2d(64, eps=1e-05, momentum=0.1, affine=True, track_running_stats=True)\n",
       "  (relu): ReLU(inplace=True)\n",
       "  (maxpool): MaxPool2d(kernel_size=3, stride=2, padding=1, dilation=1, ceil_mode=False)\n",
       "  (layer1): Sequential(\n",
       "    (0): BasicBlock(\n",
       "      (conv1): Conv2d(64, 64, kernel_size=(3, 3), stride=(1, 1), padding=(1, 1), bias=False)\n",
       "      (bn1): BatchNorm2d(64, eps=1e-05, momentum=0.1, affine=True, track_running_stats=True)\n",
       "      (relu): ReLU(inplace=True)\n",
       "      (conv2): Conv2d(64, 64, kernel_size=(3, 3), stride=(1, 1), padding=(1, 1), bias=False)\n",
       "      (bn2): BatchNorm2d(64, eps=1e-05, momentum=0.1, affine=True, track_running_stats=True)\n",
       "    )\n",
       "    (1): BasicBlock(\n",
       "      (conv1): Conv2d(64, 64, kernel_size=(3, 3), stride=(1, 1), padding=(1, 1), bias=False)\n",
       "      (bn1): BatchNorm2d(64, eps=1e-05, momentum=0.1, affine=True, track_running_stats=True)\n",
       "      (relu): ReLU(inplace=True)\n",
       "      (conv2): Conv2d(64, 64, kernel_size=(3, 3), stride=(1, 1), padding=(1, 1), bias=False)\n",
       "      (bn2): BatchNorm2d(64, eps=1e-05, momentum=0.1, affine=True, track_running_stats=True)\n",
       "    )\n",
       "  )\n",
       "  (layer2): Sequential(\n",
       "    (0): BasicBlock(\n",
       "      (conv1): Conv2d(64, 128, kernel_size=(3, 3), stride=(2, 2), padding=(1, 1), bias=False)\n",
       "      (bn1): BatchNorm2d(128, eps=1e-05, momentum=0.1, affine=True, track_running_stats=True)\n",
       "      (relu): ReLU(inplace=True)\n",
       "      (conv2): Conv2d(128, 128, kernel_size=(3, 3), stride=(1, 1), padding=(1, 1), bias=False)\n",
       "      (bn2): BatchNorm2d(128, eps=1e-05, momentum=0.1, affine=True, track_running_stats=True)\n",
       "      (downsample): Sequential(\n",
       "        (0): Conv2d(64, 128, kernel_size=(1, 1), stride=(2, 2), bias=False)\n",
       "        (1): BatchNorm2d(128, eps=1e-05, momentum=0.1, affine=True, track_running_stats=True)\n",
       "      )\n",
       "    )\n",
       "    (1): BasicBlock(\n",
       "      (conv1): Conv2d(128, 128, kernel_size=(3, 3), stride=(1, 1), padding=(1, 1), bias=False)\n",
       "      (bn1): BatchNorm2d(128, eps=1e-05, momentum=0.1, affine=True, track_running_stats=True)\n",
       "      (relu): ReLU(inplace=True)\n",
       "      (conv2): Conv2d(128, 128, kernel_size=(3, 3), stride=(1, 1), padding=(1, 1), bias=False)\n",
       "      (bn2): BatchNorm2d(128, eps=1e-05, momentum=0.1, affine=True, track_running_stats=True)\n",
       "    )\n",
       "  )\n",
       "  (layer3): Sequential(\n",
       "    (0): BasicBlock(\n",
       "      (conv1): Conv2d(128, 256, kernel_size=(3, 3), stride=(2, 2), padding=(1, 1), bias=False)\n",
       "      (bn1): BatchNorm2d(256, eps=1e-05, momentum=0.1, affine=True, track_running_stats=True)\n",
       "      (relu): ReLU(inplace=True)\n",
       "      (conv2): Conv2d(256, 256, kernel_size=(3, 3), stride=(1, 1), padding=(1, 1), bias=False)\n",
       "      (bn2): BatchNorm2d(256, eps=1e-05, momentum=0.1, affine=True, track_running_stats=True)\n",
       "      (downsample): Sequential(\n",
       "        (0): Conv2d(128, 256, kernel_size=(1, 1), stride=(2, 2), bias=False)\n",
       "        (1): BatchNorm2d(256, eps=1e-05, momentum=0.1, affine=True, track_running_stats=True)\n",
       "      )\n",
       "    )\n",
       "    (1): BasicBlock(\n",
       "      (conv1): Conv2d(256, 256, kernel_size=(3, 3), stride=(1, 1), padding=(1, 1), bias=False)\n",
       "      (bn1): BatchNorm2d(256, eps=1e-05, momentum=0.1, affine=True, track_running_stats=True)\n",
       "      (relu): ReLU(inplace=True)\n",
       "      (conv2): Conv2d(256, 256, kernel_size=(3, 3), stride=(1, 1), padding=(1, 1), bias=False)\n",
       "      (bn2): BatchNorm2d(256, eps=1e-05, momentum=0.1, affine=True, track_running_stats=True)\n",
       "    )\n",
       "  )\n",
       "  (layer4): Sequential(\n",
       "    (0): BasicBlock(\n",
       "      (conv1): Conv2d(256, 512, kernel_size=(3, 3), stride=(2, 2), padding=(1, 1), bias=False)\n",
       "      (bn1): BatchNorm2d(512, eps=1e-05, momentum=0.1, affine=True, track_running_stats=True)\n",
       "      (relu): ReLU(inplace=True)\n",
       "      (conv2): Conv2d(512, 512, kernel_size=(3, 3), stride=(1, 1), padding=(1, 1), bias=False)\n",
       "      (bn2): BatchNorm2d(512, eps=1e-05, momentum=0.1, affine=True, track_running_stats=True)\n",
       "      (downsample): Sequential(\n",
       "        (0): Conv2d(256, 512, kernel_size=(1, 1), stride=(2, 2), bias=False)\n",
       "        (1): BatchNorm2d(512, eps=1e-05, momentum=0.1, affine=True, track_running_stats=True)\n",
       "      )\n",
       "    )\n",
       "    (1): BasicBlock(\n",
       "      (conv1): Conv2d(512, 512, kernel_size=(3, 3), stride=(1, 1), padding=(1, 1), bias=False)\n",
       "      (bn1): BatchNorm2d(512, eps=1e-05, momentum=0.1, affine=True, track_running_stats=True)\n",
       "      (relu): ReLU(inplace=True)\n",
       "      (conv2): Conv2d(512, 512, kernel_size=(3, 3), stride=(1, 1), padding=(1, 1), bias=False)\n",
       "      (bn2): BatchNorm2d(512, eps=1e-05, momentum=0.1, affine=True, track_running_stats=True)\n",
       "    )\n",
       "  )\n",
       "  (avgpool): AdaptiveAvgPool2d(output_size=(1, 1))\n",
       "  (fc): Linear(in_features=512, out_features=10, bias=True)\n",
       ")"
      ]
     },
     "execution_count": 20,
     "metadata": {},
     "output_type": "execute_result"
    }
   ],
   "source": [
    "model"
   ]
  },
  {
   "cell_type": "code",
   "execution_count": 21,
   "metadata": {},
   "outputs": [],
   "source": [
    "writer.close()"
   ]
  },
  {
   "cell_type": "code",
   "execution_count": null,
   "metadata": {},
   "outputs": [],
   "source": []
  }
 ],
 "metadata": {
  "accelerator": "GPU",
  "colab": {
   "include_colab_link": true,
   "name": "Copy of mini-batch-logistic-regression-evaluator.ipynb",
   "provenance": []
  },
  "kernelspec": {
   "display_name": "Python 3",
   "language": "python",
   "name": "python3"
  },
  "language_info": {
   "codemirror_mode": {
    "name": "ipython",
    "version": 3
   },
   "file_extension": ".py",
   "mimetype": "text/x-python",
   "name": "python",
   "nbconvert_exporter": "python",
   "pygments_lexer": "ipython3",
   "version": "3.8.10"
  },
  "widgets": {
   "application/vnd.jupyter.widget-state+json": {
    "121a82b7474c4040bb1f79d8e84e025e": {
     "model_module": "@jupyter-widgets/controls",
     "model_module_version": "1.5.0",
     "model_name": "FloatProgressModel",
     "state": {
      "_dom_classes": [],
      "_model_module": "@jupyter-widgets/controls",
      "_model_module_version": "1.5.0",
      "_model_name": "FloatProgressModel",
      "_view_count": null,
      "_view_module": "@jupyter-widgets/controls",
      "_view_module_version": "1.5.0",
      "_view_name": "ProgressView",
      "bar_style": "success",
      "description": "",
      "description_tooltip": null,
      "layout": "IPY_MODEL_3ad1a3a36ed647d68f76544050800a99",
      "max": 2640397119,
      "min": 0,
      "orientation": "horizontal",
      "style": "IPY_MODEL_58816800e98f4b3fa0cd2746f433e1f5",
      "value": 2640397119
     }
    },
    "18ea8973ca674791adbc2f5262316199": {
     "model_module": "@jupyter-widgets/controls",
     "model_module_version": "1.5.0",
     "model_name": "HBoxModel",
     "state": {
      "_dom_classes": [],
      "_model_module": "@jupyter-widgets/controls",
      "_model_module_version": "1.5.0",
      "_model_name": "HBoxModel",
      "_view_count": null,
      "_view_module": "@jupyter-widgets/controls",
      "_view_module_version": "1.5.0",
      "_view_name": "HBoxView",
      "box_style": "",
      "children": [
       "IPY_MODEL_39439aab9398436fb4578c90f68ee1c2",
       "IPY_MODEL_121a82b7474c4040bb1f79d8e84e025e",
       "IPY_MODEL_ee43f26ffcd74c6d81e5bb2f91246f8f"
      ],
      "layout": "IPY_MODEL_961733e919184ebdab42a4b16ed8ac39"
     }
    },
    "272966e271b5460090919a65785b3e9f": {
     "model_module": "@jupyter-widgets/controls",
     "model_module_version": "1.5.0",
     "model_name": "DescriptionStyleModel",
     "state": {
      "_model_module": "@jupyter-widgets/controls",
      "_model_module_version": "1.5.0",
      "_model_name": "DescriptionStyleModel",
      "_view_count": null,
      "_view_module": "@jupyter-widgets/base",
      "_view_module_version": "1.2.0",
      "_view_name": "StyleView",
      "description_width": ""
     }
    },
    "31f22d7007cd49c9b49ef8969e17112d": {
     "model_module": "@jupyter-widgets/base",
     "model_module_version": "1.2.0",
     "model_name": "LayoutModel",
     "state": {
      "_model_module": "@jupyter-widgets/base",
      "_model_module_version": "1.2.0",
      "_model_name": "LayoutModel",
      "_view_count": null,
      "_view_module": "@jupyter-widgets/base",
      "_view_module_version": "1.2.0",
      "_view_name": "LayoutView",
      "align_content": null,
      "align_items": null,
      "align_self": null,
      "border": null,
      "bottom": null,
      "display": null,
      "flex": null,
      "flex_flow": null,
      "grid_area": null,
      "grid_auto_columns": null,
      "grid_auto_flow": null,
      "grid_auto_rows": null,
      "grid_column": null,
      "grid_gap": null,
      "grid_row": null,
      "grid_template_areas": null,
      "grid_template_columns": null,
      "grid_template_rows": null,
      "height": null,
      "justify_content": null,
      "justify_items": null,
      "left": null,
      "margin": null,
      "max_height": null,
      "max_width": null,
      "min_height": null,
      "min_width": null,
      "object_fit": null,
      "object_position": null,
      "order": null,
      "overflow": null,
      "overflow_x": null,
      "overflow_y": null,
      "padding": null,
      "right": null,
      "top": null,
      "visibility": null,
      "width": null
     }
    },
    "39439aab9398436fb4578c90f68ee1c2": {
     "model_module": "@jupyter-widgets/controls",
     "model_module_version": "1.5.0",
     "model_name": "HTMLModel",
     "state": {
      "_dom_classes": [],
      "_model_module": "@jupyter-widgets/controls",
      "_model_module_version": "1.5.0",
      "_model_name": "HTMLModel",
      "_view_count": null,
      "_view_module": "@jupyter-widgets/controls",
      "_view_module_version": "1.5.0",
      "_view_name": "HTMLView",
      "description": "",
      "description_tooltip": null,
      "layout": "IPY_MODEL_dd2224e928b542f8b0ef81dcac132e4c",
      "placeholder": "​",
      "style": "IPY_MODEL_ff1db819936e4e828c8a24f9e4a6118a",
      "value": ""
     }
    },
    "3ad1a3a36ed647d68f76544050800a99": {
     "model_module": "@jupyter-widgets/base",
     "model_module_version": "1.2.0",
     "model_name": "LayoutModel",
     "state": {
      "_model_module": "@jupyter-widgets/base",
      "_model_module_version": "1.2.0",
      "_model_name": "LayoutModel",
      "_view_count": null,
      "_view_module": "@jupyter-widgets/base",
      "_view_module_version": "1.2.0",
      "_view_name": "LayoutView",
      "align_content": null,
      "align_items": null,
      "align_self": null,
      "border": null,
      "bottom": null,
      "display": null,
      "flex": null,
      "flex_flow": null,
      "grid_area": null,
      "grid_auto_columns": null,
      "grid_auto_flow": null,
      "grid_auto_rows": null,
      "grid_column": null,
      "grid_gap": null,
      "grid_row": null,
      "grid_template_areas": null,
      "grid_template_columns": null,
      "grid_template_rows": null,
      "height": null,
      "justify_content": null,
      "justify_items": null,
      "left": null,
      "margin": null,
      "max_height": null,
      "max_width": null,
      "min_height": null,
      "min_width": null,
      "object_fit": null,
      "object_position": null,
      "order": null,
      "overflow": null,
      "overflow_x": null,
      "overflow_y": null,
      "padding": null,
      "right": null,
      "top": null,
      "visibility": null,
      "width": null
     }
    },
    "58816800e98f4b3fa0cd2746f433e1f5": {
     "model_module": "@jupyter-widgets/controls",
     "model_module_version": "1.5.0",
     "model_name": "ProgressStyleModel",
     "state": {
      "_model_module": "@jupyter-widgets/controls",
      "_model_module_version": "1.5.0",
      "_model_name": "ProgressStyleModel",
      "_view_count": null,
      "_view_module": "@jupyter-widgets/base",
      "_view_module_version": "1.2.0",
      "_view_name": "StyleView",
      "bar_color": null,
      "description_width": ""
     }
    },
    "961733e919184ebdab42a4b16ed8ac39": {
     "model_module": "@jupyter-widgets/base",
     "model_module_version": "1.2.0",
     "model_name": "LayoutModel",
     "state": {
      "_model_module": "@jupyter-widgets/base",
      "_model_module_version": "1.2.0",
      "_model_name": "LayoutModel",
      "_view_count": null,
      "_view_module": "@jupyter-widgets/base",
      "_view_module_version": "1.2.0",
      "_view_name": "LayoutView",
      "align_content": null,
      "align_items": null,
      "align_self": null,
      "border": null,
      "bottom": null,
      "display": null,
      "flex": null,
      "flex_flow": null,
      "grid_area": null,
      "grid_auto_columns": null,
      "grid_auto_flow": null,
      "grid_auto_rows": null,
      "grid_column": null,
      "grid_gap": null,
      "grid_row": null,
      "grid_template_areas": null,
      "grid_template_columns": null,
      "grid_template_rows": null,
      "height": null,
      "justify_content": null,
      "justify_items": null,
      "left": null,
      "margin": null,
      "max_height": null,
      "max_width": null,
      "min_height": null,
      "min_width": null,
      "object_fit": null,
      "object_position": null,
      "order": null,
      "overflow": null,
      "overflow_x": null,
      "overflow_y": null,
      "padding": null,
      "right": null,
      "top": null,
      "visibility": null,
      "width": null
     }
    },
    "dd2224e928b542f8b0ef81dcac132e4c": {
     "model_module": "@jupyter-widgets/base",
     "model_module_version": "1.2.0",
     "model_name": "LayoutModel",
     "state": {
      "_model_module": "@jupyter-widgets/base",
      "_model_module_version": "1.2.0",
      "_model_name": "LayoutModel",
      "_view_count": null,
      "_view_module": "@jupyter-widgets/base",
      "_view_module_version": "1.2.0",
      "_view_name": "LayoutView",
      "align_content": null,
      "align_items": null,
      "align_self": null,
      "border": null,
      "bottom": null,
      "display": null,
      "flex": null,
      "flex_flow": null,
      "grid_area": null,
      "grid_auto_columns": null,
      "grid_auto_flow": null,
      "grid_auto_rows": null,
      "grid_column": null,
      "grid_gap": null,
      "grid_row": null,
      "grid_template_areas": null,
      "grid_template_columns": null,
      "grid_template_rows": null,
      "height": null,
      "justify_content": null,
      "justify_items": null,
      "left": null,
      "margin": null,
      "max_height": null,
      "max_width": null,
      "min_height": null,
      "min_width": null,
      "object_fit": null,
      "object_position": null,
      "order": null,
      "overflow": null,
      "overflow_x": null,
      "overflow_y": null,
      "padding": null,
      "right": null,
      "top": null,
      "visibility": null,
      "width": null
     }
    },
    "ee43f26ffcd74c6d81e5bb2f91246f8f": {
     "model_module": "@jupyter-widgets/controls",
     "model_module_version": "1.5.0",
     "model_name": "HTMLModel",
     "state": {
      "_dom_classes": [],
      "_model_module": "@jupyter-widgets/controls",
      "_model_module_version": "1.5.0",
      "_model_name": "HTMLModel",
      "_view_count": null,
      "_view_module": "@jupyter-widgets/controls",
      "_view_module_version": "1.5.0",
      "_view_name": "HTMLView",
      "description": "",
      "description_tooltip": null,
      "layout": "IPY_MODEL_31f22d7007cd49c9b49ef8969e17112d",
      "placeholder": "​",
      "style": "IPY_MODEL_272966e271b5460090919a65785b3e9f",
      "value": " 2640397312/? [01:53&lt;00:00, 52488935.10it/s]"
     }
    },
    "ff1db819936e4e828c8a24f9e4a6118a": {
     "model_module": "@jupyter-widgets/controls",
     "model_module_version": "1.5.0",
     "model_name": "DescriptionStyleModel",
     "state": {
      "_model_module": "@jupyter-widgets/controls",
      "_model_module_version": "1.5.0",
      "_model_name": "DescriptionStyleModel",
      "_view_count": null,
      "_view_module": "@jupyter-widgets/base",
      "_view_module_version": "1.2.0",
      "_view_name": "StyleView",
      "description_width": ""
     }
    }
   }
  }
 },
 "nbformat": 4,
 "nbformat_minor": 4
}
