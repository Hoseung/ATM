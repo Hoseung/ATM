{
 "cells": [
  {
   "cell_type": "code",
   "execution_count": 1,
   "id": "cb190502-d292-4d54-a5ae-5b0ddb295a08",
   "metadata": {},
   "outputs": [],
   "source": [
    "import numpy as np\n",
    "import pickle\n",
    "\n",
    "ddir = \"../../tonemap/bf_data/Nair_and_Abraham_2010/\"\n",
    "\n",
    "fn = ddir + \"all_gals.pickle\"\n",
    "all_gals = pickle.load(open(fn, \"rb\"))\n",
    "\n",
    "all_gals = all_gals[1:] # Why the first galaxy image is NaN?"
   ]
  },
  {
   "cell_type": "code",
   "execution_count": 4,
   "id": "f2f653e1-ac5c-4e44-b531-724c1748ab34",
   "metadata": {},
   "outputs": [],
   "source": [
    "from torch.utils.data import Dataset"
   ]
  },
  {
   "cell_type": "markdown",
   "id": "61af9cd0-fb2c-4296-8044-ae2fd3cb360d",
   "metadata": {},
   "source": [
    "## 1. Simple Dataset class\n",
    "\n",
    "1. The instance holds the data\n",
    "2. requires ```__len__``` and ```__getitem__``` methods be defined"
   ]
  },
  {
   "cell_type": "code",
   "execution_count": 8,
   "id": "6d536987-2931-4fa7-8fa5-65d8f61d41e3",
   "metadata": {},
   "outputs": [
    {
     "name": "stdout",
     "output_type": "stream",
     "text": [
      "15\n"
     ]
    }
   ],
   "source": [
    "class NumbersDataset(Dataset):\n",
    "    def __init__(self, low, high):\n",
    "        self.samples = list(range(low, high))\n",
    "        \n",
    "    def __len__(self):\n",
    "        return len(self.samples)\n",
    "    \n",
    "    def __getitem__(self, idx):\n",
    "        return self.samples[idx]\n",
    "    \n",
    "ND = NumbersDataset(10,20)\n",
    "print(ND[5])"
   ]
  },
  {
   "cell_type": "markdown",
   "id": "5fe1f72a-e927-4cc5-9643-2f704e9c3bd5",
   "metadata": {},
   "source": [
    "## 2. Data from Files"
   ]
  },
  {
   "cell_type": "code",
   "execution_count": null,
   "id": "37d5d494-a4ed-4c00-9129-b3ce1880f76c",
   "metadata": {},
   "outputs": [],
   "source": [
    "import os\n",
    "\n"
   ]
  }
 ],
 "metadata": {
  "kernelspec": {
   "display_name": "Python 3",
   "language": "python",
   "name": "python3"
  },
  "language_info": {
   "codemirror_mode": {
    "name": "ipython",
    "version": 3
   },
   "file_extension": ".py",
   "mimetype": "text/x-python",
   "name": "python",
   "nbconvert_exporter": "python",
   "pygments_lexer": "ipython3",
   "version": "3.9.5"
  }
 },
 "nbformat": 4,
 "nbformat_minor": 5
}
