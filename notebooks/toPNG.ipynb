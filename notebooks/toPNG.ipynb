{
 "cells": [
  {
   "cell_type": "code",
   "execution_count": 1,
   "id": "5c9fe18c-0a0a-4b3e-a55a-da6dfcc504df",
   "metadata": {},
   "outputs": [],
   "source": [
    "import pickle\n",
    "import numpy as np\n",
    "\n",
    "ddir = \"../../tonemap/bf_data/Nair_and_Abraham_2010/\"\n",
    "\n",
    "fn = ddir + \"all_gals.pickle\"\n",
    "all_gals = pickle.load(open(fn, \"rb\"))\n",
    "\n",
    "all_gals = all_gals[1:] # Why the first galaxy image is NaN?\n",
    "\n",
    "good_gids = np.array([gal['img_name'] for gal in all_gals])\n",
    "\n",
    "from astrobf.utils.misc import load_Nair\n",
    "cat_data = load_Nair(ddir + \"catalog/table2.dat\")\n",
    "# pd dataframe\n",
    "\n",
    "cat = cat_data[cat_data['ID'].isin(good_gids)]\n",
    "\n",
    "tmo_params = {'b': 6.0,  'c': 3.96, 'dl': 9.22, 'dh': 2.45}\n"
   ]
  },
  {
   "cell_type": "code",
   "execution_count": 2,
   "id": "21fbe73e-3886-4682-a131-a60953d9256f",
   "metadata": {},
   "outputs": [],
   "source": [
    "import matplotlib.pyplot as plt \n",
    "\n",
    "from PIL import Image\n",
    "from typing import Any, Callable, Optional, Tuple\n",
    "from torchvision.datasets.vision import VisionDataset\n",
    "from functools import partial\n",
    "from astrobf.tmo import Mantiuk_Seidel\n",
    "\n",
    "class TonemapImageDataset(VisionDataset):\n",
    "    def __init__(self, \n",
    "                 data_array, \n",
    "                 tmo,\n",
    "                 labels: Optional = None, \n",
    "                 train: bool=True,\n",
    "                 transform: Optional[Callable] = None,\n",
    "                 target_transform: Optional[Callable] = None,):\n",
    "        self._array = data_array\n",
    "        self._good_gids = np.array([gal['img_name'] for gal in data_array])\n",
    "        self.img_labels = labels\n",
    "        self.transform = transform\n",
    "        self.target_transform = target_transform\n",
    "        self.tmo = tmo\n",
    "        self._bad_tmo=False\n",
    "\n",
    "    def _apply_tm(self, image):\n",
    "        try:\n",
    "            return self.tmo(image)\n",
    "        except ZeroDivisionError:\n",
    "            print(\"division by zero. Probably bad choice of TM parameters\")\n",
    "            self._bad_tmo=True\n",
    "            return image\n",
    "\n",
    "    def _to_8bit(self, image):\n",
    "        \"\"\"\n",
    "        Normalize per image (or use global min max??)\n",
    "        \"\"\"\n",
    "\n",
    "        image = (image - image.min())/image.ptp()\n",
    "        image *= 255\n",
    "        return image.astype('uint8')        \n",
    "    \n",
    "    def __len__(self) -> int:\n",
    "        return len(self._array)\n",
    "    \n",
    "    def __getitem__(self, idx: int) -> Tuple[Any, Any]:\n",
    "        \"\"\"\n",
    "        For super\n",
    "        \"\"\"\n",
    "        image, _segmap, weight = self._array[idx]['data']\n",
    "        image[~_segmap.astype(bool)] = 0#np.nan # Is it OK to have nan?\n",
    "        image[image < 0] = 0\n",
    "\n",
    "        image = self._to_8bit(self._apply_tm(image))\n",
    "        image = Image.fromarray(image)\n",
    "        label = self.img_labels[idx]\n",
    "        \n",
    "        if self.transform is not None:\n",
    "            image = self.transform(image)\n",
    "            \n",
    "        return image, label\n"
   ]
  },
  {
   "cell_type": "code",
   "execution_count": 4,
   "id": "9c00dccb-1f94-4c62-9df7-6f736921b7f7",
   "metadata": {},
   "outputs": [],
   "source": [
    "all_data = TonemapImageDataset(all_gals, partial(Mantiuk_Seidel, **tmo_params),\n",
    "                                     labels=cat['TT'].to_numpy(),\n",
    "                                     train=False, \n",
    "                                     transform=None)"
   ]
  },
  {
   "cell_type": "code",
   "execution_count": 8,
   "id": "4c19c003-fe5d-4c59-8a83-1c277f8445b3",
   "metadata": {},
   "outputs": [
    {
     "data": {
      "text/plain": [
       "ID      J000007.81m000226.09\n",
       "TT                         1\n",
       "area                   99.72\n",
       "Name: 6294, dtype: object"
      ]
     },
     "execution_count": 8,
     "metadata": {},
     "output_type": "execute_result"
    }
   ],
   "source": [
    "cc[1]"
   ]
  },
  {
   "cell_type": "code",
   "execution_count": 9,
   "id": "0626846e-8d74-4a33-839b-9af30cb99f1a",
   "metadata": {},
   "outputs": [],
   "source": [
    "import os"
   ]
  },
  {
   "cell_type": "code",
   "execution_count": 16,
   "id": "a1b798b0-4811-4d63-88b8-65e71cbf69d7",
   "metadata": {},
   "outputs": [],
   "source": [
    "data_dir = './datasets/Nair/'\n",
    "if not os.path.isdir(data_dir):\n",
    "    os.mkdir(data_dir)"
   ]
  },
  {
   "cell_type": "code",
   "execution_count": 17,
   "id": "042fd191-4365-4769-923d-fba0dc9db345",
   "metadata": {},
   "outputs": [
    {
     "name": "stderr",
     "output_type": "stream",
     "text": [
      "/home/hoseung/Work/astroBF/astrobf/tmo.py:268: RuntimeWarning: divide by zero encountered in log10\n",
      "  lp = np.log10(lum) # L prime\n"
     ]
    }
   ],
   "source": [
    "for (im, _), cc in zip(all_data, cat.iterrows()):\n",
    "    gid = cc[1][\"ID\"]\n",
    "    tt = cc[1]['TT']\n",
    "    tdir = data_dir + f'{tt}/'\n",
    "    if not os.path.isdir(tdir):\n",
    "        os.mkdir(tdir)\n",
    "        \n",
    "    im.save(tdir+f'{gid}.png')"
   ]
  },
  {
   "cell_type": "code",
   "execution_count": 19,
   "id": "213c3780-f0cd-4c5d-a8a5-d659f1908c7b",
   "metadata": {},
   "outputs": [
    {
     "name": "stdout",
     "output_type": "stream",
     "text": [
      "\u001b[0m\u001b[01;34m0\u001b[0m/  \u001b[01;34m1\u001b[0m/  \u001b[01;34m10\u001b[0m/  \u001b[01;34m11\u001b[0m/  \u001b[01;34m12\u001b[0m/  \u001b[01;34m-2\u001b[0m/  \u001b[01;34m2\u001b[0m/  \u001b[01;34m-3\u001b[0m/  \u001b[01;34m3\u001b[0m/  \u001b[01;34m4\u001b[0m/  \u001b[01;34m-5\u001b[0m/  \u001b[01;34m5\u001b[0m/  \u001b[01;34m6\u001b[0m/  \u001b[01;34m7\u001b[0m/  \u001b[01;34m8\u001b[0m/  \u001b[01;34m9\u001b[0m/  \u001b[01;34m99\u001b[0m/\n"
     ]
    }
   ],
   "source": [
    "ls datasets/Nair/"
   ]
  },
  {
   "cell_type": "markdown",
   "id": "c5005e1e-ada0-4a71-9611-a3ba4bc8f746",
   "metadata": {},
   "source": [
    "저장된 이미지 크기가 제각각이지만 상관없음, 어차피 crop할거라. "
   ]
  }
 ],
 "metadata": {
  "kernelspec": {
   "display_name": "Python 3",
   "language": "python",
   "name": "python3"
  },
  "language_info": {
   "codemirror_mode": {
    "name": "ipython",
    "version": 3
   },
   "file_extension": ".py",
   "mimetype": "text/x-python",
   "name": "python",
   "nbconvert_exporter": "python",
   "pygments_lexer": "ipython3",
   "version": "3.8.10"
  }
 },
 "nbformat": 4,
 "nbformat_minor": 5
}
